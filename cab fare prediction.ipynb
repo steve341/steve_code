{
 "cells": [
  {
   "cell_type": "code",
   "execution_count": 1,
   "id": "d09745bc",
   "metadata": {},
   "outputs": [],
   "source": [
    "import os\n",
    "import pandas as pd\n",
    "import numpy as np\n",
    "import seaborn as sns\n",
    "import matplotlib.pyplot as plt\n",
    "from collections import Counter\n",
    "from sklearn.tree import DecisionTreeRegressor\n",
    "from sklearn.ensemble import RandomForestRegressor\n",
    "from sklearn.ensemble import GradientBoostingRegressor\n",
    "from sklearn.linear_model import LinearRegression\n",
    "from sklearn.model_selection import train_test_split\n",
    "from sklearn.model_selection import RandomizedSearchCV\n",
    "from sklearn.metrics import mean_squared_error\n",
    "from sklearn.metrics import r2_score\n",
    "from pprint import pprint \n",
    "from sklearn.model_selection import GridSearchCV\n",
    "\n",
    "\n",
    "\n"
   ]
  },
  {
   "cell_type": "code",
   "execution_count": 2,
   "id": "0186651f",
   "metadata": {},
   "outputs": [],
   "source": [
    "train = pd.read_csv(\"train.csv\")\n",
    "test=pd.read_csv(\"test.csv\")"
   ]
  },
  {
   "cell_type": "code",
   "execution_count": 3,
   "id": "be6470c2",
   "metadata": {},
   "outputs": [
    {
     "data": {
      "text/html": [
       "<div>\n",
       "<style scoped>\n",
       "    .dataframe tbody tr th:only-of-type {\n",
       "        vertical-align: middle;\n",
       "    }\n",
       "\n",
       "    .dataframe tbody tr th {\n",
       "        vertical-align: top;\n",
       "    }\n",
       "\n",
       "    .dataframe thead th {\n",
       "        text-align: right;\n",
       "    }\n",
       "</style>\n",
       "<table border=\"1\" class=\"dataframe\">\n",
       "  <thead>\n",
       "    <tr style=\"text-align: right;\">\n",
       "      <th></th>\n",
       "      <th>trip_duration</th>\n",
       "      <th>distance_traveled</th>\n",
       "      <th>num_of_passengers</th>\n",
       "      <th>fare</th>\n",
       "      <th>tip</th>\n",
       "      <th>miscellaneous_fees</th>\n",
       "      <th>total_fare</th>\n",
       "      <th>surge_applied</th>\n",
       "    </tr>\n",
       "  </thead>\n",
       "  <tbody>\n",
       "    <tr>\n",
       "      <th>0</th>\n",
       "      <td>748.0</td>\n",
       "      <td>2.75</td>\n",
       "      <td>1.0</td>\n",
       "      <td>75.00</td>\n",
       "      <td>24</td>\n",
       "      <td>6.300</td>\n",
       "      <td>105.300</td>\n",
       "      <td>0</td>\n",
       "    </tr>\n",
       "    <tr>\n",
       "      <th>1</th>\n",
       "      <td>1187.0</td>\n",
       "      <td>3.43</td>\n",
       "      <td>1.0</td>\n",
       "      <td>105.00</td>\n",
       "      <td>24</td>\n",
       "      <td>13.200</td>\n",
       "      <td>142.200</td>\n",
       "      <td>0</td>\n",
       "    </tr>\n",
       "    <tr>\n",
       "      <th>2</th>\n",
       "      <td>730.0</td>\n",
       "      <td>3.12</td>\n",
       "      <td>1.0</td>\n",
       "      <td>71.25</td>\n",
       "      <td>0</td>\n",
       "      <td>26.625</td>\n",
       "      <td>97.875</td>\n",
       "      <td>1</td>\n",
       "    </tr>\n",
       "    <tr>\n",
       "      <th>3</th>\n",
       "      <td>671.0</td>\n",
       "      <td>5.63</td>\n",
       "      <td>3.0</td>\n",
       "      <td>90.00</td>\n",
       "      <td>0</td>\n",
       "      <td>9.750</td>\n",
       "      <td>99.750</td>\n",
       "      <td>0</td>\n",
       "    </tr>\n",
       "    <tr>\n",
       "      <th>4</th>\n",
       "      <td>329.0</td>\n",
       "      <td>2.09</td>\n",
       "      <td>1.0</td>\n",
       "      <td>45.00</td>\n",
       "      <td>12</td>\n",
       "      <td>13.200</td>\n",
       "      <td>70.200</td>\n",
       "      <td>0</td>\n",
       "    </tr>\n",
       "    <tr>\n",
       "      <th>...</th>\n",
       "      <td>...</td>\n",
       "      <td>...</td>\n",
       "      <td>...</td>\n",
       "      <td>...</td>\n",
       "      <td>...</td>\n",
       "      <td>...</td>\n",
       "      <td>...</td>\n",
       "      <td>...</td>\n",
       "    </tr>\n",
       "    <tr>\n",
       "      <th>209668</th>\n",
       "      <td>1617.0</td>\n",
       "      <td>8.42</td>\n",
       "      <td>1.0</td>\n",
       "      <td>150.00</td>\n",
       "      <td>47</td>\n",
       "      <td>5.800</td>\n",
       "      <td>202.800</td>\n",
       "      <td>0</td>\n",
       "    </tr>\n",
       "    <tr>\n",
       "      <th>209669</th>\n",
       "      <td>438.0</td>\n",
       "      <td>1.29</td>\n",
       "      <td>1.0</td>\n",
       "      <td>48.75</td>\n",
       "      <td>12</td>\n",
       "      <td>34.575</td>\n",
       "      <td>95.325</td>\n",
       "      <td>1</td>\n",
       "    </tr>\n",
       "    <tr>\n",
       "      <th>209670</th>\n",
       "      <td>571.0</td>\n",
       "      <td>2.82</td>\n",
       "      <td>1.0</td>\n",
       "      <td>63.75</td>\n",
       "      <td>0</td>\n",
       "      <td>6.000</td>\n",
       "      <td>69.750</td>\n",
       "      <td>0</td>\n",
       "    </tr>\n",
       "    <tr>\n",
       "      <th>209671</th>\n",
       "      <td>491.0</td>\n",
       "      <td>2.16</td>\n",
       "      <td>1.0</td>\n",
       "      <td>56.25</td>\n",
       "      <td>0</td>\n",
       "      <td>13.500</td>\n",
       "      <td>69.750</td>\n",
       "      <td>0</td>\n",
       "    </tr>\n",
       "    <tr>\n",
       "      <th>209672</th>\n",
       "      <td>3614.0</td>\n",
       "      <td>33.72</td>\n",
       "      <td>1.0</td>\n",
       "      <td>337.50</td>\n",
       "      <td>0</td>\n",
       "      <td>2.250</td>\n",
       "      <td>339.750</td>\n",
       "      <td>0</td>\n",
       "    </tr>\n",
       "  </tbody>\n",
       "</table>\n",
       "<p>209673 rows × 8 columns</p>\n",
       "</div>"
      ],
      "text/plain": [
       "        trip_duration  distance_traveled  num_of_passengers    fare  tip  \\\n",
       "0               748.0               2.75                1.0   75.00   24   \n",
       "1              1187.0               3.43                1.0  105.00   24   \n",
       "2               730.0               3.12                1.0   71.25    0   \n",
       "3               671.0               5.63                3.0   90.00    0   \n",
       "4               329.0               2.09                1.0   45.00   12   \n",
       "...               ...                ...                ...     ...  ...   \n",
       "209668         1617.0               8.42                1.0  150.00   47   \n",
       "209669          438.0               1.29                1.0   48.75   12   \n",
       "209670          571.0               2.82                1.0   63.75    0   \n",
       "209671          491.0               2.16                1.0   56.25    0   \n",
       "209672         3614.0              33.72                1.0  337.50    0   \n",
       "\n",
       "        miscellaneous_fees  total_fare  surge_applied  \n",
       "0                    6.300     105.300              0  \n",
       "1                   13.200     142.200              0  \n",
       "2                   26.625      97.875              1  \n",
       "3                    9.750      99.750              0  \n",
       "4                   13.200      70.200              0  \n",
       "...                    ...         ...            ...  \n",
       "209668               5.800     202.800              0  \n",
       "209669              34.575      95.325              1  \n",
       "209670               6.000      69.750              0  \n",
       "209671              13.500      69.750              0  \n",
       "209672               2.250     339.750              0  \n",
       "\n",
       "[209673 rows x 8 columns]"
      ]
     },
     "execution_count": 3,
     "metadata": {},
     "output_type": "execute_result"
    }
   ],
   "source": [
    "train"
   ]
  },
  {
   "cell_type": "code",
   "execution_count": 4,
   "id": "3116d682",
   "metadata": {},
   "outputs": [
    {
     "data": {
      "text/plain": [
       "(209673, 8)"
      ]
     },
     "execution_count": 4,
     "metadata": {},
     "output_type": "execute_result"
    }
   ],
   "source": [
    "train.shape"
   ]
  },
  {
   "cell_type": "code",
   "execution_count": 5,
   "id": "8df22de0",
   "metadata": {},
   "outputs": [
    {
     "data": {
      "text/plain": [
       "(89861, 8)"
      ]
     },
     "execution_count": 5,
     "metadata": {},
     "output_type": "execute_result"
    }
   ],
   "source": [
    "test.shape"
   ]
  },
  {
   "cell_type": "code",
   "execution_count": 6,
   "id": "247a6ae0",
   "metadata": {},
   "outputs": [
    {
     "data": {
      "text/plain": [
       "trip_duration         float64\n",
       "distance_traveled     float64\n",
       "num_of_passengers     float64\n",
       "fare                  float64\n",
       "tip                     int64\n",
       "miscellaneous_fees    float64\n",
       "total_fare            float64\n",
       "surge_applied           int64\n",
       "dtype: object"
      ]
     },
     "execution_count": 6,
     "metadata": {},
     "output_type": "execute_result"
    }
   ],
   "source": [
    "train.dtypes"
   ]
  },
  {
   "cell_type": "code",
   "execution_count": 7,
   "id": "cbb39ecc",
   "metadata": {},
   "outputs": [
    {
     "data": {
      "text/plain": [
       "trip_duration         float64\n",
       "distance_traveled     float64\n",
       "num_of_passengers     float64\n",
       "fare                    int64\n",
       "tip                     int64\n",
       "miscellaneous_fees    float64\n",
       "total_fare              int64\n",
       "surge_applied           int64\n",
       "dtype: object"
      ]
     },
     "execution_count": 7,
     "metadata": {},
     "output_type": "execute_result"
    }
   ],
   "source": [
    "test.dtypes"
   ]
  },
  {
   "cell_type": "code",
   "execution_count": 8,
   "id": "64c64e37",
   "metadata": {},
   "outputs": [
    {
     "data": {
      "text/html": [
       "<div>\n",
       "<style scoped>\n",
       "    .dataframe tbody tr th:only-of-type {\n",
       "        vertical-align: middle;\n",
       "    }\n",
       "\n",
       "    .dataframe tbody tr th {\n",
       "        vertical-align: top;\n",
       "    }\n",
       "\n",
       "    .dataframe thead th {\n",
       "        text-align: right;\n",
       "    }\n",
       "</style>\n",
       "<table border=\"1\" class=\"dataframe\">\n",
       "  <thead>\n",
       "    <tr style=\"text-align: right;\">\n",
       "      <th></th>\n",
       "      <th>trip_duration</th>\n",
       "      <th>distance_traveled</th>\n",
       "      <th>num_of_passengers</th>\n",
       "      <th>fare</th>\n",
       "      <th>tip</th>\n",
       "      <th>miscellaneous_fees</th>\n",
       "      <th>total_fare</th>\n",
       "      <th>surge_applied</th>\n",
       "    </tr>\n",
       "  </thead>\n",
       "  <tbody>\n",
       "    <tr>\n",
       "      <th>count</th>\n",
       "      <td>209673.000000</td>\n",
       "      <td>209673.000000</td>\n",
       "      <td>209673.000000</td>\n",
       "      <td>209673.000000</td>\n",
       "      <td>209673.000000</td>\n",
       "      <td>209673.000000</td>\n",
       "      <td>209673.000000</td>\n",
       "      <td>209673.000000</td>\n",
       "    </tr>\n",
       "    <tr>\n",
       "      <th>mean</th>\n",
       "      <td>1173.181478</td>\n",
       "      <td>5.054431</td>\n",
       "      <td>1.292808</td>\n",
       "      <td>99.623431</td>\n",
       "      <td>13.030824</td>\n",
       "      <td>15.136829</td>\n",
       "      <td>127.791084</td>\n",
       "      <td>0.280523</td>\n",
       "    </tr>\n",
       "    <tr>\n",
       "      <th>std</th>\n",
       "      <td>4775.653621</td>\n",
       "      <td>125.217419</td>\n",
       "      <td>0.930754</td>\n",
       "      <td>85.602702</td>\n",
       "      <td>20.367764</td>\n",
       "      <td>12.553436</td>\n",
       "      <td>98.797374</td>\n",
       "      <td>0.449256</td>\n",
       "    </tr>\n",
       "    <tr>\n",
       "      <th>min</th>\n",
       "      <td>0.000000</td>\n",
       "      <td>0.020000</td>\n",
       "      <td>0.000000</td>\n",
       "      <td>0.000000</td>\n",
       "      <td>0.000000</td>\n",
       "      <td>-0.500000</td>\n",
       "      <td>0.000000</td>\n",
       "      <td>0.000000</td>\n",
       "    </tr>\n",
       "    <tr>\n",
       "      <th>25%</th>\n",
       "      <td>446.000000</td>\n",
       "      <td>1.950000</td>\n",
       "      <td>1.000000</td>\n",
       "      <td>52.500000</td>\n",
       "      <td>0.000000</td>\n",
       "      <td>6.000000</td>\n",
       "      <td>70.200000</td>\n",
       "      <td>0.000000</td>\n",
       "    </tr>\n",
       "    <tr>\n",
       "      <th>50%</th>\n",
       "      <td>707.000000</td>\n",
       "      <td>3.200000</td>\n",
       "      <td>1.000000</td>\n",
       "      <td>75.000000</td>\n",
       "      <td>9.000000</td>\n",
       "      <td>9.750000</td>\n",
       "      <td>101.700000</td>\n",
       "      <td>0.000000</td>\n",
       "    </tr>\n",
       "    <tr>\n",
       "      <th>75%</th>\n",
       "      <td>1098.000000</td>\n",
       "      <td>5.730000</td>\n",
       "      <td>1.000000</td>\n",
       "      <td>116.250000</td>\n",
       "      <td>20.000000</td>\n",
       "      <td>26.450000</td>\n",
       "      <td>152.250000</td>\n",
       "      <td>1.000000</td>\n",
       "    </tr>\n",
       "    <tr>\n",
       "      <th>max</th>\n",
       "      <td>86387.000000</td>\n",
       "      <td>57283.910000</td>\n",
       "      <td>9.000000</td>\n",
       "      <td>4466.250000</td>\n",
       "      <td>2500.000000</td>\n",
       "      <td>435.000000</td>\n",
       "      <td>4472.250000</td>\n",
       "      <td>1.000000</td>\n",
       "    </tr>\n",
       "  </tbody>\n",
       "</table>\n",
       "</div>"
      ],
      "text/plain": [
       "       trip_duration  distance_traveled  num_of_passengers           fare  \\\n",
       "count  209673.000000      209673.000000      209673.000000  209673.000000   \n",
       "mean     1173.181478           5.054431           1.292808      99.623431   \n",
       "std      4775.653621         125.217419           0.930754      85.602702   \n",
       "min         0.000000           0.020000           0.000000       0.000000   \n",
       "25%       446.000000           1.950000           1.000000      52.500000   \n",
       "50%       707.000000           3.200000           1.000000      75.000000   \n",
       "75%      1098.000000           5.730000           1.000000     116.250000   \n",
       "max     86387.000000       57283.910000           9.000000    4466.250000   \n",
       "\n",
       "                 tip  miscellaneous_fees     total_fare  surge_applied  \n",
       "count  209673.000000       209673.000000  209673.000000  209673.000000  \n",
       "mean       13.030824           15.136829     127.791084       0.280523  \n",
       "std        20.367764           12.553436      98.797374       0.449256  \n",
       "min         0.000000           -0.500000       0.000000       0.000000  \n",
       "25%         0.000000            6.000000      70.200000       0.000000  \n",
       "50%         9.000000            9.750000     101.700000       0.000000  \n",
       "75%        20.000000           26.450000     152.250000       1.000000  \n",
       "max      2500.000000          435.000000    4472.250000       1.000000  "
      ]
     },
     "execution_count": 8,
     "metadata": {},
     "output_type": "execute_result"
    }
   ],
   "source": [
    "train.describe()"
   ]
  },
  {
   "cell_type": "code",
   "execution_count": 9,
   "id": "fb2a3fdc",
   "metadata": {},
   "outputs": [
    {
     "data": {
      "text/html": [
       "<div>\n",
       "<style scoped>\n",
       "    .dataframe tbody tr th:only-of-type {\n",
       "        vertical-align: middle;\n",
       "    }\n",
       "\n",
       "    .dataframe tbody tr th {\n",
       "        vertical-align: top;\n",
       "    }\n",
       "\n",
       "    .dataframe thead th {\n",
       "        text-align: right;\n",
       "    }\n",
       "</style>\n",
       "<table border=\"1\" class=\"dataframe\">\n",
       "  <thead>\n",
       "    <tr style=\"text-align: right;\">\n",
       "      <th></th>\n",
       "      <th>trip_duration</th>\n",
       "      <th>distance_traveled</th>\n",
       "      <th>num_of_passengers</th>\n",
       "      <th>fare</th>\n",
       "      <th>tip</th>\n",
       "      <th>miscellaneous_fees</th>\n",
       "      <th>total_fare</th>\n",
       "      <th>surge_applied</th>\n",
       "    </tr>\n",
       "  </thead>\n",
       "  <tbody>\n",
       "    <tr>\n",
       "      <th>count</th>\n",
       "      <td>89861.000000</td>\n",
       "      <td>89861.000000</td>\n",
       "      <td>89861.000000</td>\n",
       "      <td>89861.0</td>\n",
       "      <td>89861.000000</td>\n",
       "      <td>89861.000000</td>\n",
       "      <td>89861.0</td>\n",
       "      <td>89861.000000</td>\n",
       "    </tr>\n",
       "    <tr>\n",
       "      <th>mean</th>\n",
       "      <td>1148.178164</td>\n",
       "      <td>7.263529</td>\n",
       "      <td>1.286732</td>\n",
       "      <td>0.0</td>\n",
       "      <td>13.031048</td>\n",
       "      <td>15.190636</td>\n",
       "      <td>0.0</td>\n",
       "      <td>0.282280</td>\n",
       "    </tr>\n",
       "    <tr>\n",
       "      <th>std</th>\n",
       "      <td>4611.480867</td>\n",
       "      <td>554.965869</td>\n",
       "      <td>0.920910</td>\n",
       "      <td>0.0</td>\n",
       "      <td>18.692751</td>\n",
       "      <td>12.677904</td>\n",
       "      <td>0.0</td>\n",
       "      <td>0.450112</td>\n",
       "    </tr>\n",
       "    <tr>\n",
       "      <th>min</th>\n",
       "      <td>0.000000</td>\n",
       "      <td>0.020000</td>\n",
       "      <td>0.000000</td>\n",
       "      <td>0.0</td>\n",
       "      <td>0.000000</td>\n",
       "      <td>-0.500000</td>\n",
       "      <td>0.0</td>\n",
       "      <td>0.000000</td>\n",
       "    </tr>\n",
       "    <tr>\n",
       "      <th>25%</th>\n",
       "      <td>446.000000</td>\n",
       "      <td>1.950000</td>\n",
       "      <td>1.000000</td>\n",
       "      <td>0.0</td>\n",
       "      <td>0.000000</td>\n",
       "      <td>6.000000</td>\n",
       "      <td>0.0</td>\n",
       "      <td>0.000000</td>\n",
       "    </tr>\n",
       "    <tr>\n",
       "      <th>50%</th>\n",
       "      <td>705.000000</td>\n",
       "      <td>3.200000</td>\n",
       "      <td>1.000000</td>\n",
       "      <td>0.0</td>\n",
       "      <td>9.000000</td>\n",
       "      <td>9.750000</td>\n",
       "      <td>0.0</td>\n",
       "      <td>0.000000</td>\n",
       "    </tr>\n",
       "    <tr>\n",
       "      <th>75%</th>\n",
       "      <td>1094.000000</td>\n",
       "      <td>5.730000</td>\n",
       "      <td>1.000000</td>\n",
       "      <td>0.0</td>\n",
       "      <td>20.000000</td>\n",
       "      <td>26.450000</td>\n",
       "      <td>0.0</td>\n",
       "      <td>1.000000</td>\n",
       "    </tr>\n",
       "    <tr>\n",
       "      <th>max</th>\n",
       "      <td>86395.000000</td>\n",
       "      <td>145517.600000</td>\n",
       "      <td>9.000000</td>\n",
       "      <td>0.0</td>\n",
       "      <td>719.000000</td>\n",
       "      <td>431.500000</td>\n",
       "      <td>0.0</td>\n",
       "      <td>1.000000</td>\n",
       "    </tr>\n",
       "  </tbody>\n",
       "</table>\n",
       "</div>"
      ],
      "text/plain": [
       "       trip_duration  distance_traveled  num_of_passengers     fare  \\\n",
       "count   89861.000000       89861.000000       89861.000000  89861.0   \n",
       "mean     1148.178164           7.263529           1.286732      0.0   \n",
       "std      4611.480867         554.965869           0.920910      0.0   \n",
       "min         0.000000           0.020000           0.000000      0.0   \n",
       "25%       446.000000           1.950000           1.000000      0.0   \n",
       "50%       705.000000           3.200000           1.000000      0.0   \n",
       "75%      1094.000000           5.730000           1.000000      0.0   \n",
       "max     86395.000000      145517.600000           9.000000      0.0   \n",
       "\n",
       "                tip  miscellaneous_fees  total_fare  surge_applied  \n",
       "count  89861.000000        89861.000000     89861.0   89861.000000  \n",
       "mean      13.031048           15.190636         0.0       0.282280  \n",
       "std       18.692751           12.677904         0.0       0.450112  \n",
       "min        0.000000           -0.500000         0.0       0.000000  \n",
       "25%        0.000000            6.000000         0.0       0.000000  \n",
       "50%        9.000000            9.750000         0.0       0.000000  \n",
       "75%       20.000000           26.450000         0.0       1.000000  \n",
       "max      719.000000          431.500000         0.0       1.000000  "
      ]
     },
     "execution_count": 9,
     "metadata": {},
     "output_type": "execute_result"
    }
   ],
   "source": [
    "test.describe()"
   ]
  },
  {
   "cell_type": "code",
   "execution_count": 10,
   "id": "3ec6f873",
   "metadata": {},
   "outputs": [],
   "source": [
    "# convert fare amount to numeric "
   ]
  },
  {
   "cell_type": "code",
   "execution_count": 11,
   "id": "d0928c03",
   "metadata": {},
   "outputs": [],
   "source": [
    "train[\"total_fare\"]=pd.to_numeric(train[\"total_fare\"],errors=\"coerce\")#converts non numeric to nan"
   ]
  },
  {
   "cell_type": "code",
   "execution_count": 12,
   "id": "0d9179ee",
   "metadata": {},
   "outputs": [
    {
     "data": {
      "text/plain": [
       "trip_duration         float64\n",
       "distance_traveled     float64\n",
       "num_of_passengers     float64\n",
       "fare                  float64\n",
       "tip                     int64\n",
       "miscellaneous_fees    float64\n",
       "total_fare            float64\n",
       "surge_applied           int64\n",
       "dtype: object"
      ]
     },
     "execution_count": 12,
     "metadata": {},
     "output_type": "execute_result"
    }
   ],
   "source": [
    "train.dtypes"
   ]
  },
  {
   "cell_type": "raw",
   "id": "5cb7ae09",
   "metadata": {},
   "source": [
    "train.dropna(susbet=[\"trip duration\"])"
   ]
  },
  {
   "cell_type": "code",
   "execution_count": 13,
   "id": "de1e3016",
   "metadata": {},
   "outputs": [
    {
     "data": {
      "text/html": [
       "<div>\n",
       "<style scoped>\n",
       "    .dataframe tbody tr th:only-of-type {\n",
       "        vertical-align: middle;\n",
       "    }\n",
       "\n",
       "    .dataframe tbody tr th {\n",
       "        vertical-align: top;\n",
       "    }\n",
       "\n",
       "    .dataframe thead th {\n",
       "        text-align: right;\n",
       "    }\n",
       "</style>\n",
       "<table border=\"1\" class=\"dataframe\">\n",
       "  <thead>\n",
       "    <tr style=\"text-align: right;\">\n",
       "      <th></th>\n",
       "      <th>trip_duration</th>\n",
       "      <th>distance_traveled</th>\n",
       "      <th>num_of_passengers</th>\n",
       "      <th>fare</th>\n",
       "      <th>tip</th>\n",
       "      <th>miscellaneous_fees</th>\n",
       "      <th>total_fare</th>\n",
       "      <th>surge_applied</th>\n",
       "    </tr>\n",
       "  </thead>\n",
       "  <tbody>\n",
       "    <tr>\n",
       "      <th>0</th>\n",
       "      <td>748.0</td>\n",
       "      <td>2.75</td>\n",
       "      <td>1.0</td>\n",
       "      <td>75.00</td>\n",
       "      <td>24</td>\n",
       "      <td>6.300</td>\n",
       "      <td>105.300</td>\n",
       "      <td>0</td>\n",
       "    </tr>\n",
       "    <tr>\n",
       "      <th>1</th>\n",
       "      <td>1187.0</td>\n",
       "      <td>3.43</td>\n",
       "      <td>1.0</td>\n",
       "      <td>105.00</td>\n",
       "      <td>24</td>\n",
       "      <td>13.200</td>\n",
       "      <td>142.200</td>\n",
       "      <td>0</td>\n",
       "    </tr>\n",
       "    <tr>\n",
       "      <th>2</th>\n",
       "      <td>730.0</td>\n",
       "      <td>3.12</td>\n",
       "      <td>1.0</td>\n",
       "      <td>71.25</td>\n",
       "      <td>0</td>\n",
       "      <td>26.625</td>\n",
       "      <td>97.875</td>\n",
       "      <td>1</td>\n",
       "    </tr>\n",
       "    <tr>\n",
       "      <th>3</th>\n",
       "      <td>671.0</td>\n",
       "      <td>5.63</td>\n",
       "      <td>3.0</td>\n",
       "      <td>90.00</td>\n",
       "      <td>0</td>\n",
       "      <td>9.750</td>\n",
       "      <td>99.750</td>\n",
       "      <td>0</td>\n",
       "    </tr>\n",
       "    <tr>\n",
       "      <th>4</th>\n",
       "      <td>329.0</td>\n",
       "      <td>2.09</td>\n",
       "      <td>1.0</td>\n",
       "      <td>45.00</td>\n",
       "      <td>12</td>\n",
       "      <td>13.200</td>\n",
       "      <td>70.200</td>\n",
       "      <td>0</td>\n",
       "    </tr>\n",
       "    <tr>\n",
       "      <th>...</th>\n",
       "      <td>...</td>\n",
       "      <td>...</td>\n",
       "      <td>...</td>\n",
       "      <td>...</td>\n",
       "      <td>...</td>\n",
       "      <td>...</td>\n",
       "      <td>...</td>\n",
       "      <td>...</td>\n",
       "    </tr>\n",
       "    <tr>\n",
       "      <th>209668</th>\n",
       "      <td>1617.0</td>\n",
       "      <td>8.42</td>\n",
       "      <td>1.0</td>\n",
       "      <td>150.00</td>\n",
       "      <td>47</td>\n",
       "      <td>5.800</td>\n",
       "      <td>202.800</td>\n",
       "      <td>0</td>\n",
       "    </tr>\n",
       "    <tr>\n",
       "      <th>209669</th>\n",
       "      <td>438.0</td>\n",
       "      <td>1.29</td>\n",
       "      <td>1.0</td>\n",
       "      <td>48.75</td>\n",
       "      <td>12</td>\n",
       "      <td>34.575</td>\n",
       "      <td>95.325</td>\n",
       "      <td>1</td>\n",
       "    </tr>\n",
       "    <tr>\n",
       "      <th>209670</th>\n",
       "      <td>571.0</td>\n",
       "      <td>2.82</td>\n",
       "      <td>1.0</td>\n",
       "      <td>63.75</td>\n",
       "      <td>0</td>\n",
       "      <td>6.000</td>\n",
       "      <td>69.750</td>\n",
       "      <td>0</td>\n",
       "    </tr>\n",
       "    <tr>\n",
       "      <th>209671</th>\n",
       "      <td>491.0</td>\n",
       "      <td>2.16</td>\n",
       "      <td>1.0</td>\n",
       "      <td>56.25</td>\n",
       "      <td>0</td>\n",
       "      <td>13.500</td>\n",
       "      <td>69.750</td>\n",
       "      <td>0</td>\n",
       "    </tr>\n",
       "    <tr>\n",
       "      <th>209672</th>\n",
       "      <td>3614.0</td>\n",
       "      <td>33.72</td>\n",
       "      <td>1.0</td>\n",
       "      <td>337.50</td>\n",
       "      <td>0</td>\n",
       "      <td>2.250</td>\n",
       "      <td>339.750</td>\n",
       "      <td>0</td>\n",
       "    </tr>\n",
       "  </tbody>\n",
       "</table>\n",
       "<p>209673 rows × 8 columns</p>\n",
       "</div>"
      ],
      "text/plain": [
       "        trip_duration  distance_traveled  num_of_passengers    fare  tip  \\\n",
       "0               748.0               2.75                1.0   75.00   24   \n",
       "1              1187.0               3.43                1.0  105.00   24   \n",
       "2               730.0               3.12                1.0   71.25    0   \n",
       "3               671.0               5.63                3.0   90.00    0   \n",
       "4               329.0               2.09                1.0   45.00   12   \n",
       "...               ...                ...                ...     ...  ...   \n",
       "209668         1617.0               8.42                1.0  150.00   47   \n",
       "209669          438.0               1.29                1.0   48.75   12   \n",
       "209670          571.0               2.82                1.0   63.75    0   \n",
       "209671          491.0               2.16                1.0   56.25    0   \n",
       "209672         3614.0              33.72                1.0  337.50    0   \n",
       "\n",
       "        miscellaneous_fees  total_fare  surge_applied  \n",
       "0                    6.300     105.300              0  \n",
       "1                   13.200     142.200              0  \n",
       "2                   26.625      97.875              1  \n",
       "3                    9.750      99.750              0  \n",
       "4                   13.200      70.200              0  \n",
       "...                    ...         ...            ...  \n",
       "209668               5.800     202.800              0  \n",
       "209669              34.575      95.325              1  \n",
       "209670               6.000      69.750              0  \n",
       "209671              13.500      69.750              0  \n",
       "209672               2.250     339.750              0  \n",
       "\n",
       "[209673 rows x 8 columns]"
      ]
     },
     "execution_count": 13,
     "metadata": {},
     "output_type": "execute_result"
    }
   ],
   "source": [
    "train"
   ]
  },
  {
   "cell_type": "code",
   "execution_count": 14,
   "id": "c07e50bd",
   "metadata": {},
   "outputs": [
    {
     "name": "stdout",
     "output_type": "stream",
     "text": [
      "(209673, 8)\n",
      "0\n"
     ]
    }
   ],
   "source": [
    "train=train.drop(train[train['trip_duration'].isnull()].index,axis=0)\n",
    "print(train.shape)\n",
    "print(train['trip_duration'].isnull().sum())"
   ]
  },
  {
   "cell_type": "code",
   "execution_count": 15,
   "id": "4fbc552d",
   "metadata": {},
   "outputs": [
    {
     "data": {
      "text/plain": [
       "count    209673.000000\n",
       "mean          1.292808\n",
       "std           0.930754\n",
       "min           0.000000\n",
       "25%           1.000000\n",
       "50%           1.000000\n",
       "75%           1.000000\n",
       "max           9.000000\n",
       "Name: num_of_passengers, dtype: float64"
      ]
     },
     "execution_count": 15,
     "metadata": {},
     "output_type": "execute_result"
    }
   ],
   "source": [
    "train['num_of_passengers'].describe()"
   ]
  },
  {
   "cell_type": "code",
   "execution_count": 16,
   "id": "9c8a8131",
   "metadata": {},
   "outputs": [],
   "source": [
    "train=train.drop(train[train['num_of_passengers']>6].index,axis=0)"
   ]
  },
  {
   "cell_type": "code",
   "execution_count": 17,
   "id": "9916ab59",
   "metadata": {},
   "outputs": [
    {
     "data": {
      "text/plain": [
       "count    209638.000000\n",
       "mean          1.291660\n",
       "std           0.926554\n",
       "min           0.000000\n",
       "25%           1.000000\n",
       "50%           1.000000\n",
       "75%           1.000000\n",
       "max           6.000000\n",
       "Name: num_of_passengers, dtype: float64"
      ]
     },
     "execution_count": 17,
     "metadata": {},
     "output_type": "execute_result"
    }
   ],
   "source": [
    "train['num_of_passengers'].describe()"
   ]
  },
  {
   "cell_type": "code",
   "execution_count": 18,
   "id": "cba0f631",
   "metadata": {},
   "outputs": [],
   "source": [
    "train=train.drop(train[train['num_of_passengers']==0].index,axis=0)"
   ]
  },
  {
   "cell_type": "code",
   "execution_count": 19,
   "id": "27b94b84",
   "metadata": {},
   "outputs": [
    {
     "data": {
      "text/plain": [
       "count    208885.000000\n",
       "mean          1.296316\n",
       "std           0.924966\n",
       "min           1.000000\n",
       "25%           1.000000\n",
       "50%           1.000000\n",
       "75%           1.000000\n",
       "max           6.000000\n",
       "Name: num_of_passengers, dtype: float64"
      ]
     },
     "execution_count": 19,
     "metadata": {},
     "output_type": "execute_result"
    }
   ],
   "source": [
    "train['num_of_passengers'].describe()\n"
   ]
  },
  {
   "cell_type": "code",
   "execution_count": 20,
   "id": "32907d8f",
   "metadata": {},
   "outputs": [
    {
     "data": {
      "text/plain": [
       "0         1.0\n",
       "134347    1.0\n",
       "134349    1.0\n",
       "134350    1.0\n",
       "134351    1.0\n",
       "         ... \n",
       "176386    6.0\n",
       "161066    6.0\n",
       "141723    6.0\n",
       "141722    6.0\n",
       "155062    6.0\n",
       "Name: num_of_passengers, Length: 208885, dtype: float64"
      ]
     },
     "execution_count": 20,
     "metadata": {},
     "output_type": "execute_result"
    }
   ],
   "source": [
    "train['num_of_passengers'].sort_values(ascending=True)"
   ]
  },
  {
   "cell_type": "code",
   "execution_count": 21,
   "id": "d680d740",
   "metadata": {},
   "outputs": [],
   "source": [
    "train=train.drop(train[train['num_of_passengers'].isnull()].index,axis=0)"
   ]
  },
  {
   "cell_type": "code",
   "execution_count": 22,
   "id": "a5e33b99",
   "metadata": {},
   "outputs": [
    {
     "data": {
      "text/plain": [
       "(208885, 8)"
      ]
     },
     "execution_count": 22,
     "metadata": {},
     "output_type": "execute_result"
    }
   ],
   "source": [
    "train.shape"
   ]
  },
  {
   "cell_type": "code",
   "execution_count": 23,
   "id": "d77ef350",
   "metadata": {},
   "outputs": [
    {
     "name": "stdout",
     "output_type": "stream",
     "text": [
      "0\n"
     ]
    }
   ],
   "source": [
    "print(train['num_of_passengers'].isnull().sum())"
   ]
  },
  {
   "cell_type": "code",
   "execution_count": 24,
   "id": "c0f587bb",
   "metadata": {},
   "outputs": [
    {
     "data": {
      "text/plain": [
       "34028     4472.250\n",
       "62108     3969.750\n",
       "31936     3909.750\n",
       "62607     3887.250\n",
       "34734     3857.625\n",
       "            ...   \n",
       "168824       0.000\n",
       "113055       0.000\n",
       "108666       0.000\n",
       "114353       0.000\n",
       "43703        0.000\n",
       "Name: total_fare, Length: 208885, dtype: float64"
      ]
     },
     "execution_count": 24,
     "metadata": {},
     "output_type": "execute_result"
    }
   ],
   "source": [
    "train[\"total_fare\"].sort_values(ascending=False)"
   ]
  },
  {
   "cell_type": "code",
   "execution_count": 25,
   "id": "e99dde9d",
   "metadata": {},
   "outputs": [
    {
     "data": {
      "text/plain": [
       "Counter({False: 208885})"
      ]
     },
     "execution_count": 25,
     "metadata": {},
     "output_type": "execute_result"
    }
   ],
   "source": [
    "Counter(train[\"total_fare\"]<0)"
   ]
  },
  {
   "cell_type": "code",
   "execution_count": 26,
   "id": "715f2b64",
   "metadata": {},
   "outputs": [],
   "source": [
    "train=train.drop(train[train['total_fare']>454].index,axis=0)"
   ]
  },
  {
   "cell_type": "code",
   "execution_count": 27,
   "id": "b2871fdc",
   "metadata": {},
   "outputs": [],
   "source": [
    "train=train.drop(train[train['total_fare']==0].index,axis=0)"
   ]
  },
  {
   "cell_type": "code",
   "execution_count": 28,
   "id": "41bbbd34",
   "metadata": {},
   "outputs": [
    {
     "data": {
      "text/plain": [
       "197339    57283.91\n",
       "83097      1136.50\n",
       "89007       131.89\n",
       "146119      106.06\n",
       "69442       105.85\n",
       "            ...   \n",
       "4313          0.02\n",
       "167199        0.02\n",
       "58776         0.02\n",
       "191949        0.02\n",
       "114686        0.02\n",
       "Name: distance_traveled, Length: 206063, dtype: float64"
      ]
     },
     "execution_count": 28,
     "metadata": {},
     "output_type": "execute_result"
    }
   ],
   "source": [
    "train[\"distance_traveled\"].sort_values(ascending=False)"
   ]
  },
  {
   "cell_type": "code",
   "execution_count": 29,
   "id": "f3cdab64",
   "metadata": {},
   "outputs": [],
   "source": [
    "train=train.drop(train[train['total_fare']<0].index,axis=0)"
   ]
  },
  {
   "cell_type": "code",
   "execution_count": 30,
   "id": "903e5a9a",
   "metadata": {},
   "outputs": [
    {
     "data": {
      "text/html": [
       "<div>\n",
       "<style scoped>\n",
       "    .dataframe tbody tr th:only-of-type {\n",
       "        vertical-align: middle;\n",
       "    }\n",
       "\n",
       "    .dataframe tbody tr th {\n",
       "        vertical-align: top;\n",
       "    }\n",
       "\n",
       "    .dataframe thead th {\n",
       "        text-align: right;\n",
       "    }\n",
       "</style>\n",
       "<table border=\"1\" class=\"dataframe\">\n",
       "  <thead>\n",
       "    <tr style=\"text-align: right;\">\n",
       "      <th></th>\n",
       "      <th>trip_duration</th>\n",
       "      <th>distance_traveled</th>\n",
       "      <th>num_of_passengers</th>\n",
       "      <th>fare</th>\n",
       "      <th>tip</th>\n",
       "      <th>miscellaneous_fees</th>\n",
       "      <th>total_fare</th>\n",
       "      <th>surge_applied</th>\n",
       "    </tr>\n",
       "  </thead>\n",
       "  <tbody>\n",
       "    <tr>\n",
       "      <th>0</th>\n",
       "      <td>748.0</td>\n",
       "      <td>2.75</td>\n",
       "      <td>1.0</td>\n",
       "      <td>75.00</td>\n",
       "      <td>24</td>\n",
       "      <td>6.300</td>\n",
       "      <td>105.300</td>\n",
       "      <td>0</td>\n",
       "    </tr>\n",
       "    <tr>\n",
       "      <th>1</th>\n",
       "      <td>1187.0</td>\n",
       "      <td>3.43</td>\n",
       "      <td>1.0</td>\n",
       "      <td>105.00</td>\n",
       "      <td>24</td>\n",
       "      <td>13.200</td>\n",
       "      <td>142.200</td>\n",
       "      <td>0</td>\n",
       "    </tr>\n",
       "    <tr>\n",
       "      <th>2</th>\n",
       "      <td>730.0</td>\n",
       "      <td>3.12</td>\n",
       "      <td>1.0</td>\n",
       "      <td>71.25</td>\n",
       "      <td>0</td>\n",
       "      <td>26.625</td>\n",
       "      <td>97.875</td>\n",
       "      <td>1</td>\n",
       "    </tr>\n",
       "    <tr>\n",
       "      <th>3</th>\n",
       "      <td>671.0</td>\n",
       "      <td>5.63</td>\n",
       "      <td>3.0</td>\n",
       "      <td>90.00</td>\n",
       "      <td>0</td>\n",
       "      <td>9.750</td>\n",
       "      <td>99.750</td>\n",
       "      <td>0</td>\n",
       "    </tr>\n",
       "    <tr>\n",
       "      <th>4</th>\n",
       "      <td>329.0</td>\n",
       "      <td>2.09</td>\n",
       "      <td>1.0</td>\n",
       "      <td>45.00</td>\n",
       "      <td>12</td>\n",
       "      <td>13.200</td>\n",
       "      <td>70.200</td>\n",
       "      <td>0</td>\n",
       "    </tr>\n",
       "    <tr>\n",
       "      <th>...</th>\n",
       "      <td>...</td>\n",
       "      <td>...</td>\n",
       "      <td>...</td>\n",
       "      <td>...</td>\n",
       "      <td>...</td>\n",
       "      <td>...</td>\n",
       "      <td>...</td>\n",
       "      <td>...</td>\n",
       "    </tr>\n",
       "    <tr>\n",
       "      <th>209668</th>\n",
       "      <td>1617.0</td>\n",
       "      <td>8.42</td>\n",
       "      <td>1.0</td>\n",
       "      <td>150.00</td>\n",
       "      <td>47</td>\n",
       "      <td>5.800</td>\n",
       "      <td>202.800</td>\n",
       "      <td>0</td>\n",
       "    </tr>\n",
       "    <tr>\n",
       "      <th>209669</th>\n",
       "      <td>438.0</td>\n",
       "      <td>1.29</td>\n",
       "      <td>1.0</td>\n",
       "      <td>48.75</td>\n",
       "      <td>12</td>\n",
       "      <td>34.575</td>\n",
       "      <td>95.325</td>\n",
       "      <td>1</td>\n",
       "    </tr>\n",
       "    <tr>\n",
       "      <th>209670</th>\n",
       "      <td>571.0</td>\n",
       "      <td>2.82</td>\n",
       "      <td>1.0</td>\n",
       "      <td>63.75</td>\n",
       "      <td>0</td>\n",
       "      <td>6.000</td>\n",
       "      <td>69.750</td>\n",
       "      <td>0</td>\n",
       "    </tr>\n",
       "    <tr>\n",
       "      <th>209671</th>\n",
       "      <td>491.0</td>\n",
       "      <td>2.16</td>\n",
       "      <td>1.0</td>\n",
       "      <td>56.25</td>\n",
       "      <td>0</td>\n",
       "      <td>13.500</td>\n",
       "      <td>69.750</td>\n",
       "      <td>0</td>\n",
       "    </tr>\n",
       "    <tr>\n",
       "      <th>209672</th>\n",
       "      <td>3614.0</td>\n",
       "      <td>33.72</td>\n",
       "      <td>1.0</td>\n",
       "      <td>337.50</td>\n",
       "      <td>0</td>\n",
       "      <td>2.250</td>\n",
       "      <td>339.750</td>\n",
       "      <td>0</td>\n",
       "    </tr>\n",
       "  </tbody>\n",
       "</table>\n",
       "<p>206063 rows × 8 columns</p>\n",
       "</div>"
      ],
      "text/plain": [
       "        trip_duration  distance_traveled  num_of_passengers    fare  tip  \\\n",
       "0               748.0               2.75                1.0   75.00   24   \n",
       "1              1187.0               3.43                1.0  105.00   24   \n",
       "2               730.0               3.12                1.0   71.25    0   \n",
       "3               671.0               5.63                3.0   90.00    0   \n",
       "4               329.0               2.09                1.0   45.00   12   \n",
       "...               ...                ...                ...     ...  ...   \n",
       "209668         1617.0               8.42                1.0  150.00   47   \n",
       "209669          438.0               1.29                1.0   48.75   12   \n",
       "209670          571.0               2.82                1.0   63.75    0   \n",
       "209671          491.0               2.16                1.0   56.25    0   \n",
       "209672         3614.0              33.72                1.0  337.50    0   \n",
       "\n",
       "        miscellaneous_fees  total_fare  surge_applied  \n",
       "0                    6.300     105.300              0  \n",
       "1                   13.200     142.200              0  \n",
       "2                   26.625      97.875              1  \n",
       "3                    9.750      99.750              0  \n",
       "4                   13.200      70.200              0  \n",
       "...                    ...         ...            ...  \n",
       "209668               5.800     202.800              0  \n",
       "209669              34.575      95.325              1  \n",
       "209670               6.000      69.750              0  \n",
       "209671              13.500      69.750              0  \n",
       "209672               2.250     339.750              0  \n",
       "\n",
       "[206063 rows x 8 columns]"
      ]
     },
     "execution_count": 30,
     "metadata": {},
     "output_type": "execute_result"
    }
   ],
   "source": [
    "train"
   ]
  },
  {
   "cell_type": "raw",
   "id": "b5565945",
   "metadata": {},
   "source": []
  },
  {
   "cell_type": "code",
   "execution_count": 31,
   "id": "3dd798d8",
   "metadata": {},
   "outputs": [],
   "source": [
    "train=train.drop(train[train[\"distance_traveled\"]>8000].index,axis=0)"
   ]
  },
  {
   "cell_type": "code",
   "execution_count": 32,
   "id": "f8718339",
   "metadata": {},
   "outputs": [],
   "source": [
    "train=train.drop(train[train['total_fare']<1].index,axis=0)"
   ]
  },
  {
   "cell_type": "code",
   "execution_count": 33,
   "id": "6c5815d8",
   "metadata": {},
   "outputs": [
    {
     "data": {
      "text/plain": [
       "(206062, 8)"
      ]
     },
     "execution_count": 33,
     "metadata": {},
     "output_type": "execute_result"
    }
   ],
   "source": [
    "train.shape"
   ]
  },
  {
   "cell_type": "code",
   "execution_count": 34,
   "id": "3eb2e4e5",
   "metadata": {},
   "outputs": [
    {
     "data": {
      "text/plain": [
       "0          2.75\n",
       "1          3.43\n",
       "2          3.12\n",
       "3          5.63\n",
       "4          2.09\n",
       "          ...  \n",
       "209668     8.42\n",
       "209669     1.29\n",
       "209670     2.82\n",
       "209671     2.16\n",
       "209672    33.72\n",
       "Name: distance_traveled, Length: 206062, dtype: float64"
      ]
     },
     "execution_count": 34,
     "metadata": {},
     "output_type": "execute_result"
    }
   ],
   "source": [
    "train[\"distance_traveled\"]"
   ]
  },
  {
   "cell_type": "code",
   "execution_count": 35,
   "id": "c526c3a7",
   "metadata": {},
   "outputs": [],
   "source": [
    "drop_columns=[\"fare\",\"miscellaneous_fees\",\"tip\"]"
   ]
  },
  {
   "cell_type": "raw",
   "id": "aa368129",
   "metadata": {},
   "source": [
    "drop_columns=[\"fare\",\"miscellaneous_fees\",\"tip\"]"
   ]
  },
  {
   "cell_type": "code",
   "execution_count": 36,
   "id": "0e8f6431",
   "metadata": {},
   "outputs": [],
   "source": [
    "train=train.drop(drop_columns,axis=1)"
   ]
  },
  {
   "cell_type": "code",
   "execution_count": 37,
   "id": "00defb9a",
   "metadata": {},
   "outputs": [
    {
     "data": {
      "text/html": [
       "<div>\n",
       "<style scoped>\n",
       "    .dataframe tbody tr th:only-of-type {\n",
       "        vertical-align: middle;\n",
       "    }\n",
       "\n",
       "    .dataframe tbody tr th {\n",
       "        vertical-align: top;\n",
       "    }\n",
       "\n",
       "    .dataframe thead th {\n",
       "        text-align: right;\n",
       "    }\n",
       "</style>\n",
       "<table border=\"1\" class=\"dataframe\">\n",
       "  <thead>\n",
       "    <tr style=\"text-align: right;\">\n",
       "      <th></th>\n",
       "      <th>trip_duration</th>\n",
       "      <th>distance_traveled</th>\n",
       "      <th>num_of_passengers</th>\n",
       "      <th>total_fare</th>\n",
       "      <th>surge_applied</th>\n",
       "    </tr>\n",
       "  </thead>\n",
       "  <tbody>\n",
       "    <tr>\n",
       "      <th>0</th>\n",
       "      <td>748.0</td>\n",
       "      <td>2.75</td>\n",
       "      <td>1.0</td>\n",
       "      <td>105.300</td>\n",
       "      <td>0</td>\n",
       "    </tr>\n",
       "    <tr>\n",
       "      <th>1</th>\n",
       "      <td>1187.0</td>\n",
       "      <td>3.43</td>\n",
       "      <td>1.0</td>\n",
       "      <td>142.200</td>\n",
       "      <td>0</td>\n",
       "    </tr>\n",
       "    <tr>\n",
       "      <th>2</th>\n",
       "      <td>730.0</td>\n",
       "      <td>3.12</td>\n",
       "      <td>1.0</td>\n",
       "      <td>97.875</td>\n",
       "      <td>1</td>\n",
       "    </tr>\n",
       "    <tr>\n",
       "      <th>3</th>\n",
       "      <td>671.0</td>\n",
       "      <td>5.63</td>\n",
       "      <td>3.0</td>\n",
       "      <td>99.750</td>\n",
       "      <td>0</td>\n",
       "    </tr>\n",
       "    <tr>\n",
       "      <th>4</th>\n",
       "      <td>329.0</td>\n",
       "      <td>2.09</td>\n",
       "      <td>1.0</td>\n",
       "      <td>70.200</td>\n",
       "      <td>0</td>\n",
       "    </tr>\n",
       "    <tr>\n",
       "      <th>...</th>\n",
       "      <td>...</td>\n",
       "      <td>...</td>\n",
       "      <td>...</td>\n",
       "      <td>...</td>\n",
       "      <td>...</td>\n",
       "    </tr>\n",
       "    <tr>\n",
       "      <th>209668</th>\n",
       "      <td>1617.0</td>\n",
       "      <td>8.42</td>\n",
       "      <td>1.0</td>\n",
       "      <td>202.800</td>\n",
       "      <td>0</td>\n",
       "    </tr>\n",
       "    <tr>\n",
       "      <th>209669</th>\n",
       "      <td>438.0</td>\n",
       "      <td>1.29</td>\n",
       "      <td>1.0</td>\n",
       "      <td>95.325</td>\n",
       "      <td>1</td>\n",
       "    </tr>\n",
       "    <tr>\n",
       "      <th>209670</th>\n",
       "      <td>571.0</td>\n",
       "      <td>2.82</td>\n",
       "      <td>1.0</td>\n",
       "      <td>69.750</td>\n",
       "      <td>0</td>\n",
       "    </tr>\n",
       "    <tr>\n",
       "      <th>209671</th>\n",
       "      <td>491.0</td>\n",
       "      <td>2.16</td>\n",
       "      <td>1.0</td>\n",
       "      <td>69.750</td>\n",
       "      <td>0</td>\n",
       "    </tr>\n",
       "    <tr>\n",
       "      <th>209672</th>\n",
       "      <td>3614.0</td>\n",
       "      <td>33.72</td>\n",
       "      <td>1.0</td>\n",
       "      <td>339.750</td>\n",
       "      <td>0</td>\n",
       "    </tr>\n",
       "  </tbody>\n",
       "</table>\n",
       "<p>206062 rows × 5 columns</p>\n",
       "</div>"
      ],
      "text/plain": [
       "        trip_duration  distance_traveled  num_of_passengers  total_fare  \\\n",
       "0               748.0               2.75                1.0     105.300   \n",
       "1              1187.0               3.43                1.0     142.200   \n",
       "2               730.0               3.12                1.0      97.875   \n",
       "3               671.0               5.63                3.0      99.750   \n",
       "4               329.0               2.09                1.0      70.200   \n",
       "...               ...                ...                ...         ...   \n",
       "209668         1617.0               8.42                1.0     202.800   \n",
       "209669          438.0               1.29                1.0      95.325   \n",
       "209670          571.0               2.82                1.0      69.750   \n",
       "209671          491.0               2.16                1.0      69.750   \n",
       "209672         3614.0              33.72                1.0     339.750   \n",
       "\n",
       "        surge_applied  \n",
       "0                   0  \n",
       "1                   0  \n",
       "2                   1  \n",
       "3                   0  \n",
       "4                   0  \n",
       "...               ...  \n",
       "209668              0  \n",
       "209669              1  \n",
       "209670              0  \n",
       "209671              0  \n",
       "209672              0  \n",
       "\n",
       "[206062 rows x 5 columns]"
      ]
     },
     "execution_count": 37,
     "metadata": {},
     "output_type": "execute_result"
    }
   ],
   "source": [
    "train"
   ]
  },
  {
   "cell_type": "code",
   "execution_count": 38,
   "id": "230cee5a",
   "metadata": {},
   "outputs": [
    {
     "data": {
      "text/html": [
       "<div>\n",
       "<style scoped>\n",
       "    .dataframe tbody tr th:only-of-type {\n",
       "        vertical-align: middle;\n",
       "    }\n",
       "\n",
       "    .dataframe tbody tr th {\n",
       "        vertical-align: top;\n",
       "    }\n",
       "\n",
       "    .dataframe thead th {\n",
       "        text-align: right;\n",
       "    }\n",
       "</style>\n",
       "<table border=\"1\" class=\"dataframe\">\n",
       "  <thead>\n",
       "    <tr style=\"text-align: right;\">\n",
       "      <th></th>\n",
       "      <th>trip_duration</th>\n",
       "      <th>distance_traveled</th>\n",
       "      <th>num_of_passengers</th>\n",
       "      <th>fare</th>\n",
       "      <th>tip</th>\n",
       "      <th>miscellaneous_fees</th>\n",
       "      <th>total_fare</th>\n",
       "      <th>surge_applied</th>\n",
       "    </tr>\n",
       "  </thead>\n",
       "  <tbody>\n",
       "    <tr>\n",
       "      <th>0</th>\n",
       "      <td>1076.0</td>\n",
       "      <td>4.18</td>\n",
       "      <td>1.0</td>\n",
       "      <td>0</td>\n",
       "      <td>0</td>\n",
       "      <td>13.500</td>\n",
       "      <td>0</td>\n",
       "      <td>0</td>\n",
       "    </tr>\n",
       "    <tr>\n",
       "      <th>1</th>\n",
       "      <td>429.0</td>\n",
       "      <td>1.48</td>\n",
       "      <td>4.0</td>\n",
       "      <td>0</td>\n",
       "      <td>0</td>\n",
       "      <td>13.500</td>\n",
       "      <td>0</td>\n",
       "      <td>0</td>\n",
       "    </tr>\n",
       "    <tr>\n",
       "      <th>2</th>\n",
       "      <td>856.0</td>\n",
       "      <td>4.15</td>\n",
       "      <td>1.0</td>\n",
       "      <td>0</td>\n",
       "      <td>24</td>\n",
       "      <td>6.000</td>\n",
       "      <td>0</td>\n",
       "      <td>0</td>\n",
       "    </tr>\n",
       "    <tr>\n",
       "      <th>3</th>\n",
       "      <td>622.0</td>\n",
       "      <td>3.22</td>\n",
       "      <td>1.0</td>\n",
       "      <td>0</td>\n",
       "      <td>15</td>\n",
       "      <td>5.625</td>\n",
       "      <td>0</td>\n",
       "      <td>0</td>\n",
       "    </tr>\n",
       "    <tr>\n",
       "      <th>4</th>\n",
       "      <td>507.0</td>\n",
       "      <td>3.98</td>\n",
       "      <td>1.0</td>\n",
       "      <td>0</td>\n",
       "      <td>0</td>\n",
       "      <td>2.250</td>\n",
       "      <td>0</td>\n",
       "      <td>0</td>\n",
       "    </tr>\n",
       "    <tr>\n",
       "      <th>...</th>\n",
       "      <td>...</td>\n",
       "      <td>...</td>\n",
       "      <td>...</td>\n",
       "      <td>...</td>\n",
       "      <td>...</td>\n",
       "      <td>...</td>\n",
       "      <td>...</td>\n",
       "      <td>...</td>\n",
       "    </tr>\n",
       "    <tr>\n",
       "      <th>89856</th>\n",
       "      <td>435.0</td>\n",
       "      <td>2.24</td>\n",
       "      <td>1.0</td>\n",
       "      <td>0</td>\n",
       "      <td>13</td>\n",
       "      <td>13.700</td>\n",
       "      <td>0</td>\n",
       "      <td>0</td>\n",
       "    </tr>\n",
       "    <tr>\n",
       "      <th>89857</th>\n",
       "      <td>519.0</td>\n",
       "      <td>2.61</td>\n",
       "      <td>1.0</td>\n",
       "      <td>0</td>\n",
       "      <td>7</td>\n",
       "      <td>13.850</td>\n",
       "      <td>0</td>\n",
       "      <td>0</td>\n",
       "    </tr>\n",
       "    <tr>\n",
       "      <th>89858</th>\n",
       "      <td>450.0</td>\n",
       "      <td>2.24</td>\n",
       "      <td>1.0</td>\n",
       "      <td>0</td>\n",
       "      <td>0</td>\n",
       "      <td>26.625</td>\n",
       "      <td>0</td>\n",
       "      <td>1</td>\n",
       "    </tr>\n",
       "    <tr>\n",
       "      <th>89859</th>\n",
       "      <td>919.0</td>\n",
       "      <td>4.12</td>\n",
       "      <td>1.0</td>\n",
       "      <td>0</td>\n",
       "      <td>25</td>\n",
       "      <td>30.200</td>\n",
       "      <td>0</td>\n",
       "      <td>1</td>\n",
       "    </tr>\n",
       "    <tr>\n",
       "      <th>89860</th>\n",
       "      <td>441.0</td>\n",
       "      <td>3.52</td>\n",
       "      <td>1.0</td>\n",
       "      <td>0</td>\n",
       "      <td>23</td>\n",
       "      <td>6.175</td>\n",
       "      <td>0</td>\n",
       "      <td>0</td>\n",
       "    </tr>\n",
       "  </tbody>\n",
       "</table>\n",
       "<p>89861 rows × 8 columns</p>\n",
       "</div>"
      ],
      "text/plain": [
       "       trip_duration  distance_traveled  num_of_passengers  fare  tip  \\\n",
       "0             1076.0               4.18                1.0     0    0   \n",
       "1              429.0               1.48                4.0     0    0   \n",
       "2              856.0               4.15                1.0     0   24   \n",
       "3              622.0               3.22                1.0     0   15   \n",
       "4              507.0               3.98                1.0     0    0   \n",
       "...              ...                ...                ...   ...  ...   \n",
       "89856          435.0               2.24                1.0     0   13   \n",
       "89857          519.0               2.61                1.0     0    7   \n",
       "89858          450.0               2.24                1.0     0    0   \n",
       "89859          919.0               4.12                1.0     0   25   \n",
       "89860          441.0               3.52                1.0     0   23   \n",
       "\n",
       "       miscellaneous_fees  total_fare  surge_applied  \n",
       "0                  13.500           0              0  \n",
       "1                  13.500           0              0  \n",
       "2                   6.000           0              0  \n",
       "3                   5.625           0              0  \n",
       "4                   2.250           0              0  \n",
       "...                   ...         ...            ...  \n",
       "89856              13.700           0              0  \n",
       "89857              13.850           0              0  \n",
       "89858              26.625           0              1  \n",
       "89859              30.200           0              1  \n",
       "89860               6.175           0              0  \n",
       "\n",
       "[89861 rows x 8 columns]"
      ]
     },
     "execution_count": 38,
     "metadata": {},
     "output_type": "execute_result"
    }
   ],
   "source": [
    "test"
   ]
  },
  {
   "cell_type": "code",
   "execution_count": 39,
   "id": "a52374a1",
   "metadata": {},
   "outputs": [],
   "source": [
    "test=test.drop(train[train['trip_duration'].isnull()].index,axis=0)"
   ]
  },
  {
   "cell_type": "code",
   "execution_count": 40,
   "id": "5bfef315",
   "metadata": {},
   "outputs": [
    {
     "name": "stdout",
     "output_type": "stream",
     "text": [
      "(89861, 8)\n",
      "0\n"
     ]
    }
   ],
   "source": [
    "print(test.shape)\n",
    "print(test['trip_duration'].isnull().sum())"
   ]
  },
  {
   "cell_type": "code",
   "execution_count": 41,
   "id": "ff1179b3",
   "metadata": {},
   "outputs": [
    {
     "data": {
      "text/plain": [
       "count    89861.000000\n",
       "mean         1.286732\n",
       "std          0.920910\n",
       "min          0.000000\n",
       "25%          1.000000\n",
       "50%          1.000000\n",
       "75%          1.000000\n",
       "max          9.000000\n",
       "Name: num_of_passengers, dtype: float64"
      ]
     },
     "execution_count": 41,
     "metadata": {},
     "output_type": "execute_result"
    }
   ],
   "source": [
    "test['num_of_passengers'].describe()"
   ]
  },
  {
   "cell_type": "code",
   "execution_count": 42,
   "id": "244e323a",
   "metadata": {},
   "outputs": [],
   "source": [
    "test=test.drop(test[test['num_of_passengers']>6].index,axis=0)"
   ]
  },
  {
   "cell_type": "code",
   "execution_count": 43,
   "id": "2dd8a024",
   "metadata": {},
   "outputs": [
    {
     "data": {
      "text/html": [
       "<div>\n",
       "<style scoped>\n",
       "    .dataframe tbody tr th:only-of-type {\n",
       "        vertical-align: middle;\n",
       "    }\n",
       "\n",
       "    .dataframe tbody tr th {\n",
       "        vertical-align: top;\n",
       "    }\n",
       "\n",
       "    .dataframe thead th {\n",
       "        text-align: right;\n",
       "    }\n",
       "</style>\n",
       "<table border=\"1\" class=\"dataframe\">\n",
       "  <thead>\n",
       "    <tr style=\"text-align: right;\">\n",
       "      <th></th>\n",
       "      <th>trip_duration</th>\n",
       "      <th>distance_traveled</th>\n",
       "      <th>num_of_passengers</th>\n",
       "      <th>fare</th>\n",
       "      <th>tip</th>\n",
       "      <th>miscellaneous_fees</th>\n",
       "      <th>total_fare</th>\n",
       "      <th>surge_applied</th>\n",
       "    </tr>\n",
       "  </thead>\n",
       "  <tbody>\n",
       "    <tr>\n",
       "      <th>count</th>\n",
       "      <td>89840.000000</td>\n",
       "      <td>89840.000000</td>\n",
       "      <td>89840.000000</td>\n",
       "      <td>89840.0</td>\n",
       "      <td>89840.000000</td>\n",
       "      <td>89840.000000</td>\n",
       "      <td>89840.0</td>\n",
       "      <td>89840.000000</td>\n",
       "    </tr>\n",
       "    <tr>\n",
       "      <th>mean</th>\n",
       "      <td>1148.288134</td>\n",
       "      <td>7.264419</td>\n",
       "      <td>1.285174</td>\n",
       "      <td>0.0</td>\n",
       "      <td>13.030955</td>\n",
       "      <td>15.192661</td>\n",
       "      <td>0.0</td>\n",
       "      <td>0.282324</td>\n",
       "    </tr>\n",
       "    <tr>\n",
       "      <th>std</th>\n",
       "      <td>4612.001565</td>\n",
       "      <td>555.030719</td>\n",
       "      <td>0.915319</td>\n",
       "      <td>0.0</td>\n",
       "      <td>18.686931</td>\n",
       "      <td>12.676523</td>\n",
       "      <td>0.0</td>\n",
       "      <td>0.450133</td>\n",
       "    </tr>\n",
       "    <tr>\n",
       "      <th>min</th>\n",
       "      <td>0.000000</td>\n",
       "      <td>0.020000</td>\n",
       "      <td>0.000000</td>\n",
       "      <td>0.0</td>\n",
       "      <td>0.000000</td>\n",
       "      <td>-0.500000</td>\n",
       "      <td>0.0</td>\n",
       "      <td>0.000000</td>\n",
       "    </tr>\n",
       "    <tr>\n",
       "      <th>25%</th>\n",
       "      <td>446.000000</td>\n",
       "      <td>1.950000</td>\n",
       "      <td>1.000000</td>\n",
       "      <td>0.0</td>\n",
       "      <td>0.000000</td>\n",
       "      <td>6.000000</td>\n",
       "      <td>0.0</td>\n",
       "      <td>0.000000</td>\n",
       "    </tr>\n",
       "    <tr>\n",
       "      <th>50%</th>\n",
       "      <td>705.000000</td>\n",
       "      <td>3.200000</td>\n",
       "      <td>1.000000</td>\n",
       "      <td>0.0</td>\n",
       "      <td>9.000000</td>\n",
       "      <td>9.750000</td>\n",
       "      <td>0.0</td>\n",
       "      <td>0.000000</td>\n",
       "    </tr>\n",
       "    <tr>\n",
       "      <th>75%</th>\n",
       "      <td>1094.000000</td>\n",
       "      <td>5.730000</td>\n",
       "      <td>1.000000</td>\n",
       "      <td>0.0</td>\n",
       "      <td>20.000000</td>\n",
       "      <td>26.450000</td>\n",
       "      <td>0.0</td>\n",
       "      <td>1.000000</td>\n",
       "    </tr>\n",
       "    <tr>\n",
       "      <th>max</th>\n",
       "      <td>86395.000000</td>\n",
       "      <td>145517.600000</td>\n",
       "      <td>6.000000</td>\n",
       "      <td>0.0</td>\n",
       "      <td>719.000000</td>\n",
       "      <td>431.500000</td>\n",
       "      <td>0.0</td>\n",
       "      <td>1.000000</td>\n",
       "    </tr>\n",
       "  </tbody>\n",
       "</table>\n",
       "</div>"
      ],
      "text/plain": [
       "       trip_duration  distance_traveled  num_of_passengers     fare  \\\n",
       "count   89840.000000       89840.000000       89840.000000  89840.0   \n",
       "mean     1148.288134           7.264419           1.285174      0.0   \n",
       "std      4612.001565         555.030719           0.915319      0.0   \n",
       "min         0.000000           0.020000           0.000000      0.0   \n",
       "25%       446.000000           1.950000           1.000000      0.0   \n",
       "50%       705.000000           3.200000           1.000000      0.0   \n",
       "75%      1094.000000           5.730000           1.000000      0.0   \n",
       "max     86395.000000      145517.600000           6.000000      0.0   \n",
       "\n",
       "                tip  miscellaneous_fees  total_fare  surge_applied  \n",
       "count  89840.000000        89840.000000     89840.0   89840.000000  \n",
       "mean      13.030955           15.192661         0.0       0.282324  \n",
       "std       18.686931           12.676523         0.0       0.450133  \n",
       "min        0.000000           -0.500000         0.0       0.000000  \n",
       "25%        0.000000            6.000000         0.0       0.000000  \n",
       "50%        9.000000            9.750000         0.0       0.000000  \n",
       "75%       20.000000           26.450000         0.0       1.000000  \n",
       "max      719.000000          431.500000         0.0       1.000000  "
      ]
     },
     "execution_count": 43,
     "metadata": {},
     "output_type": "execute_result"
    }
   ],
   "source": [
    "test.describe()"
   ]
  },
  {
   "cell_type": "code",
   "execution_count": 44,
   "id": "0b4d0a26",
   "metadata": {},
   "outputs": [],
   "source": [
    "test=test.drop(test[test['num_of_passengers']==0].index,axis=0)"
   ]
  },
  {
   "cell_type": "code",
   "execution_count": 45,
   "id": "4cdc2181",
   "metadata": {},
   "outputs": [],
   "source": [
    "test=test.drop(test[test['num_of_passengers'].isnull()].index,axis=0)"
   ]
  },
  {
   "cell_type": "code",
   "execution_count": 46,
   "id": "70737828",
   "metadata": {},
   "outputs": [
    {
     "name": "stdout",
     "output_type": "stream",
     "text": [
      "0\n"
     ]
    }
   ],
   "source": [
    "print(test['num_of_passengers'].isnull().sum())"
   ]
  },
  {
   "cell_type": "code",
   "execution_count": 47,
   "id": "c90b8d59",
   "metadata": {},
   "outputs": [
    {
     "data": {
      "text/plain": [
       "0        0\n",
       "59916    0\n",
       "59924    0\n",
       "59923    0\n",
       "59922    0\n",
       "        ..\n",
       "29957    0\n",
       "29956    0\n",
       "29955    0\n",
       "29954    0\n",
       "89860    0\n",
       "Name: total_fare, Length: 89464, dtype: int64"
      ]
     },
     "execution_count": 47,
     "metadata": {},
     "output_type": "execute_result"
    }
   ],
   "source": [
    "test[\"total_fare\"].sort_values(ascending=False)"
   ]
  },
  {
   "cell_type": "code",
   "execution_count": 48,
   "id": "2b2d117c",
   "metadata": {},
   "outputs": [
    {
     "data": {
      "text/plain": [
       "Counter({False: 89464})"
      ]
     },
     "execution_count": 48,
     "metadata": {},
     "output_type": "execute_result"
    }
   ],
   "source": [
    "Counter(test[\"total_fare\"]<0)"
   ]
  },
  {
   "cell_type": "code",
   "execution_count": 49,
   "id": "89d7f51b",
   "metadata": {},
   "outputs": [],
   "source": [
    "test=test.drop(test[test['total_fare']>454].index,axis=0)"
   ]
  },
  {
   "cell_type": "code",
   "execution_count": 50,
   "id": "9f2f0a2a",
   "metadata": {},
   "outputs": [
    {
     "data": {
      "text/html": [
       "<div>\n",
       "<style scoped>\n",
       "    .dataframe tbody tr th:only-of-type {\n",
       "        vertical-align: middle;\n",
       "    }\n",
       "\n",
       "    .dataframe tbody tr th {\n",
       "        vertical-align: top;\n",
       "    }\n",
       "\n",
       "    .dataframe thead th {\n",
       "        text-align: right;\n",
       "    }\n",
       "</style>\n",
       "<table border=\"1\" class=\"dataframe\">\n",
       "  <thead>\n",
       "    <tr style=\"text-align: right;\">\n",
       "      <th></th>\n",
       "      <th>trip_duration</th>\n",
       "      <th>distance_traveled</th>\n",
       "      <th>num_of_passengers</th>\n",
       "      <th>fare</th>\n",
       "      <th>tip</th>\n",
       "      <th>miscellaneous_fees</th>\n",
       "      <th>total_fare</th>\n",
       "      <th>surge_applied</th>\n",
       "    </tr>\n",
       "  </thead>\n",
       "  <tbody>\n",
       "    <tr>\n",
       "      <th>0</th>\n",
       "      <td>1076.0</td>\n",
       "      <td>4.18</td>\n",
       "      <td>1.0</td>\n",
       "      <td>0</td>\n",
       "      <td>0</td>\n",
       "      <td>13.500</td>\n",
       "      <td>0</td>\n",
       "      <td>0</td>\n",
       "    </tr>\n",
       "    <tr>\n",
       "      <th>1</th>\n",
       "      <td>429.0</td>\n",
       "      <td>1.48</td>\n",
       "      <td>4.0</td>\n",
       "      <td>0</td>\n",
       "      <td>0</td>\n",
       "      <td>13.500</td>\n",
       "      <td>0</td>\n",
       "      <td>0</td>\n",
       "    </tr>\n",
       "    <tr>\n",
       "      <th>2</th>\n",
       "      <td>856.0</td>\n",
       "      <td>4.15</td>\n",
       "      <td>1.0</td>\n",
       "      <td>0</td>\n",
       "      <td>24</td>\n",
       "      <td>6.000</td>\n",
       "      <td>0</td>\n",
       "      <td>0</td>\n",
       "    </tr>\n",
       "    <tr>\n",
       "      <th>3</th>\n",
       "      <td>622.0</td>\n",
       "      <td>3.22</td>\n",
       "      <td>1.0</td>\n",
       "      <td>0</td>\n",
       "      <td>15</td>\n",
       "      <td>5.625</td>\n",
       "      <td>0</td>\n",
       "      <td>0</td>\n",
       "    </tr>\n",
       "    <tr>\n",
       "      <th>4</th>\n",
       "      <td>507.0</td>\n",
       "      <td>3.98</td>\n",
       "      <td>1.0</td>\n",
       "      <td>0</td>\n",
       "      <td>0</td>\n",
       "      <td>2.250</td>\n",
       "      <td>0</td>\n",
       "      <td>0</td>\n",
       "    </tr>\n",
       "    <tr>\n",
       "      <th>...</th>\n",
       "      <td>...</td>\n",
       "      <td>...</td>\n",
       "      <td>...</td>\n",
       "      <td>...</td>\n",
       "      <td>...</td>\n",
       "      <td>...</td>\n",
       "      <td>...</td>\n",
       "      <td>...</td>\n",
       "    </tr>\n",
       "    <tr>\n",
       "      <th>89856</th>\n",
       "      <td>435.0</td>\n",
       "      <td>2.24</td>\n",
       "      <td>1.0</td>\n",
       "      <td>0</td>\n",
       "      <td>13</td>\n",
       "      <td>13.700</td>\n",
       "      <td>0</td>\n",
       "      <td>0</td>\n",
       "    </tr>\n",
       "    <tr>\n",
       "      <th>89857</th>\n",
       "      <td>519.0</td>\n",
       "      <td>2.61</td>\n",
       "      <td>1.0</td>\n",
       "      <td>0</td>\n",
       "      <td>7</td>\n",
       "      <td>13.850</td>\n",
       "      <td>0</td>\n",
       "      <td>0</td>\n",
       "    </tr>\n",
       "    <tr>\n",
       "      <th>89858</th>\n",
       "      <td>450.0</td>\n",
       "      <td>2.24</td>\n",
       "      <td>1.0</td>\n",
       "      <td>0</td>\n",
       "      <td>0</td>\n",
       "      <td>26.625</td>\n",
       "      <td>0</td>\n",
       "      <td>1</td>\n",
       "    </tr>\n",
       "    <tr>\n",
       "      <th>89859</th>\n",
       "      <td>919.0</td>\n",
       "      <td>4.12</td>\n",
       "      <td>1.0</td>\n",
       "      <td>0</td>\n",
       "      <td>25</td>\n",
       "      <td>30.200</td>\n",
       "      <td>0</td>\n",
       "      <td>1</td>\n",
       "    </tr>\n",
       "    <tr>\n",
       "      <th>89860</th>\n",
       "      <td>441.0</td>\n",
       "      <td>3.52</td>\n",
       "      <td>1.0</td>\n",
       "      <td>0</td>\n",
       "      <td>23</td>\n",
       "      <td>6.175</td>\n",
       "      <td>0</td>\n",
       "      <td>0</td>\n",
       "    </tr>\n",
       "  </tbody>\n",
       "</table>\n",
       "<p>89464 rows × 8 columns</p>\n",
       "</div>"
      ],
      "text/plain": [
       "       trip_duration  distance_traveled  num_of_passengers  fare  tip  \\\n",
       "0             1076.0               4.18                1.0     0    0   \n",
       "1              429.0               1.48                4.0     0    0   \n",
       "2              856.0               4.15                1.0     0   24   \n",
       "3              622.0               3.22                1.0     0   15   \n",
       "4              507.0               3.98                1.0     0    0   \n",
       "...              ...                ...                ...   ...  ...   \n",
       "89856          435.0               2.24                1.0     0   13   \n",
       "89857          519.0               2.61                1.0     0    7   \n",
       "89858          450.0               2.24                1.0     0    0   \n",
       "89859          919.0               4.12                1.0     0   25   \n",
       "89860          441.0               3.52                1.0     0   23   \n",
       "\n",
       "       miscellaneous_fees  total_fare  surge_applied  \n",
       "0                  13.500           0              0  \n",
       "1                  13.500           0              0  \n",
       "2                   6.000           0              0  \n",
       "3                   5.625           0              0  \n",
       "4                   2.250           0              0  \n",
       "...                   ...         ...            ...  \n",
       "89856              13.700           0              0  \n",
       "89857              13.850           0              0  \n",
       "89858              26.625           0              1  \n",
       "89859              30.200           0              1  \n",
       "89860               6.175           0              0  \n",
       "\n",
       "[89464 rows x 8 columns]"
      ]
     },
     "execution_count": 50,
     "metadata": {},
     "output_type": "execute_result"
    }
   ],
   "source": [
    "test"
   ]
  },
  {
   "cell_type": "code",
   "execution_count": 51,
   "id": "f084ffe9",
   "metadata": {},
   "outputs": [
    {
     "data": {
      "text/plain": [
       "12792    145517.60\n",
       "89500     80627.76\n",
       "88418       199.09\n",
       "2234        176.75\n",
       "58962       152.84\n",
       "           ...    \n",
       "78069         0.02\n",
       "30455         0.02\n",
       "8995          0.02\n",
       "88293         0.02\n",
       "55290         0.02\n",
       "Name: distance_traveled, Length: 89464, dtype: float64"
      ]
     },
     "execution_count": 51,
     "metadata": {},
     "output_type": "execute_result"
    }
   ],
   "source": [
    "test[\"distance_traveled\"].sort_values(ascending=False)"
   ]
  },
  {
   "cell_type": "code",
   "execution_count": 52,
   "id": "c02ab42b",
   "metadata": {},
   "outputs": [],
   "source": [
    "test=test.drop(train[train[\"distance_traveled\"]>8000].index,axis=0)"
   ]
  },
  {
   "cell_type": "code",
   "execution_count": 53,
   "id": "70772071",
   "metadata": {},
   "outputs": [],
   "source": [
    "test=test.drop(train[train[\"distance_traveled\"]==0].index,axis=0)"
   ]
  },
  {
   "cell_type": "code",
   "execution_count": 54,
   "id": "648592b5",
   "metadata": {},
   "outputs": [],
   "source": [
    "test=test.drop(train[train[\"distance_traveled\"]<0].index,axis=0)"
   ]
  },
  {
   "cell_type": "code",
   "execution_count": 55,
   "id": "d683104d",
   "metadata": {},
   "outputs": [
    {
     "data": {
      "text/html": [
       "<div>\n",
       "<style scoped>\n",
       "    .dataframe tbody tr th:only-of-type {\n",
       "        vertical-align: middle;\n",
       "    }\n",
       "\n",
       "    .dataframe tbody tr th {\n",
       "        vertical-align: top;\n",
       "    }\n",
       "\n",
       "    .dataframe thead th {\n",
       "        text-align: right;\n",
       "    }\n",
       "</style>\n",
       "<table border=\"1\" class=\"dataframe\">\n",
       "  <thead>\n",
       "    <tr style=\"text-align: right;\">\n",
       "      <th></th>\n",
       "      <th>trip_duration</th>\n",
       "      <th>distance_traveled</th>\n",
       "      <th>num_of_passengers</th>\n",
       "      <th>fare</th>\n",
       "      <th>tip</th>\n",
       "      <th>miscellaneous_fees</th>\n",
       "      <th>total_fare</th>\n",
       "      <th>surge_applied</th>\n",
       "    </tr>\n",
       "  </thead>\n",
       "  <tbody>\n",
       "    <tr>\n",
       "      <th>0</th>\n",
       "      <td>1076.0</td>\n",
       "      <td>4.18</td>\n",
       "      <td>1.0</td>\n",
       "      <td>0</td>\n",
       "      <td>0</td>\n",
       "      <td>13.500</td>\n",
       "      <td>0</td>\n",
       "      <td>0</td>\n",
       "    </tr>\n",
       "    <tr>\n",
       "      <th>1</th>\n",
       "      <td>429.0</td>\n",
       "      <td>1.48</td>\n",
       "      <td>4.0</td>\n",
       "      <td>0</td>\n",
       "      <td>0</td>\n",
       "      <td>13.500</td>\n",
       "      <td>0</td>\n",
       "      <td>0</td>\n",
       "    </tr>\n",
       "    <tr>\n",
       "      <th>2</th>\n",
       "      <td>856.0</td>\n",
       "      <td>4.15</td>\n",
       "      <td>1.0</td>\n",
       "      <td>0</td>\n",
       "      <td>24</td>\n",
       "      <td>6.000</td>\n",
       "      <td>0</td>\n",
       "      <td>0</td>\n",
       "    </tr>\n",
       "    <tr>\n",
       "      <th>3</th>\n",
       "      <td>622.0</td>\n",
       "      <td>3.22</td>\n",
       "      <td>1.0</td>\n",
       "      <td>0</td>\n",
       "      <td>15</td>\n",
       "      <td>5.625</td>\n",
       "      <td>0</td>\n",
       "      <td>0</td>\n",
       "    </tr>\n",
       "    <tr>\n",
       "      <th>4</th>\n",
       "      <td>507.0</td>\n",
       "      <td>3.98</td>\n",
       "      <td>1.0</td>\n",
       "      <td>0</td>\n",
       "      <td>0</td>\n",
       "      <td>2.250</td>\n",
       "      <td>0</td>\n",
       "      <td>0</td>\n",
       "    </tr>\n",
       "    <tr>\n",
       "      <th>...</th>\n",
       "      <td>...</td>\n",
       "      <td>...</td>\n",
       "      <td>...</td>\n",
       "      <td>...</td>\n",
       "      <td>...</td>\n",
       "      <td>...</td>\n",
       "      <td>...</td>\n",
       "      <td>...</td>\n",
       "    </tr>\n",
       "    <tr>\n",
       "      <th>89856</th>\n",
       "      <td>435.0</td>\n",
       "      <td>2.24</td>\n",
       "      <td>1.0</td>\n",
       "      <td>0</td>\n",
       "      <td>13</td>\n",
       "      <td>13.700</td>\n",
       "      <td>0</td>\n",
       "      <td>0</td>\n",
       "    </tr>\n",
       "    <tr>\n",
       "      <th>89857</th>\n",
       "      <td>519.0</td>\n",
       "      <td>2.61</td>\n",
       "      <td>1.0</td>\n",
       "      <td>0</td>\n",
       "      <td>7</td>\n",
       "      <td>13.850</td>\n",
       "      <td>0</td>\n",
       "      <td>0</td>\n",
       "    </tr>\n",
       "    <tr>\n",
       "      <th>89858</th>\n",
       "      <td>450.0</td>\n",
       "      <td>2.24</td>\n",
       "      <td>1.0</td>\n",
       "      <td>0</td>\n",
       "      <td>0</td>\n",
       "      <td>26.625</td>\n",
       "      <td>0</td>\n",
       "      <td>1</td>\n",
       "    </tr>\n",
       "    <tr>\n",
       "      <th>89859</th>\n",
       "      <td>919.0</td>\n",
       "      <td>4.12</td>\n",
       "      <td>1.0</td>\n",
       "      <td>0</td>\n",
       "      <td>25</td>\n",
       "      <td>30.200</td>\n",
       "      <td>0</td>\n",
       "      <td>1</td>\n",
       "    </tr>\n",
       "    <tr>\n",
       "      <th>89860</th>\n",
       "      <td>441.0</td>\n",
       "      <td>3.52</td>\n",
       "      <td>1.0</td>\n",
       "      <td>0</td>\n",
       "      <td>23</td>\n",
       "      <td>6.175</td>\n",
       "      <td>0</td>\n",
       "      <td>0</td>\n",
       "    </tr>\n",
       "  </tbody>\n",
       "</table>\n",
       "<p>89464 rows × 8 columns</p>\n",
       "</div>"
      ],
      "text/plain": [
       "       trip_duration  distance_traveled  num_of_passengers  fare  tip  \\\n",
       "0             1076.0               4.18                1.0     0    0   \n",
       "1              429.0               1.48                4.0     0    0   \n",
       "2              856.0               4.15                1.0     0   24   \n",
       "3              622.0               3.22                1.0     0   15   \n",
       "4              507.0               3.98                1.0     0    0   \n",
       "...              ...                ...                ...   ...  ...   \n",
       "89856          435.0               2.24                1.0     0   13   \n",
       "89857          519.0               2.61                1.0     0    7   \n",
       "89858          450.0               2.24                1.0     0    0   \n",
       "89859          919.0               4.12                1.0     0   25   \n",
       "89860          441.0               3.52                1.0     0   23   \n",
       "\n",
       "       miscellaneous_fees  total_fare  surge_applied  \n",
       "0                  13.500           0              0  \n",
       "1                  13.500           0              0  \n",
       "2                   6.000           0              0  \n",
       "3                   5.625           0              0  \n",
       "4                   2.250           0              0  \n",
       "...                   ...         ...            ...  \n",
       "89856              13.700           0              0  \n",
       "89857              13.850           0              0  \n",
       "89858              26.625           0              1  \n",
       "89859              30.200           0              1  \n",
       "89860               6.175           0              0  \n",
       "\n",
       "[89464 rows x 8 columns]"
      ]
     },
     "execution_count": 55,
     "metadata": {},
     "output_type": "execute_result"
    }
   ],
   "source": [
    "test"
   ]
  },
  {
   "cell_type": "code",
   "execution_count": 56,
   "id": "4045c92a",
   "metadata": {},
   "outputs": [],
   "source": [
    "drop_columns=[\"fare\",\"miscellaneous_fees\",\"tip\"]"
   ]
  },
  {
   "cell_type": "code",
   "execution_count": 57,
   "id": "f178e788",
   "metadata": {},
   "outputs": [],
   "source": [
    "test=test.drop(drop_columns,axis=1)"
   ]
  },
  {
   "cell_type": "code",
   "execution_count": 58,
   "id": "3a267d0f",
   "metadata": {},
   "outputs": [
    {
     "data": {
      "text/html": [
       "<div>\n",
       "<style scoped>\n",
       "    .dataframe tbody tr th:only-of-type {\n",
       "        vertical-align: middle;\n",
       "    }\n",
       "\n",
       "    .dataframe tbody tr th {\n",
       "        vertical-align: top;\n",
       "    }\n",
       "\n",
       "    .dataframe thead th {\n",
       "        text-align: right;\n",
       "    }\n",
       "</style>\n",
       "<table border=\"1\" class=\"dataframe\">\n",
       "  <thead>\n",
       "    <tr style=\"text-align: right;\">\n",
       "      <th></th>\n",
       "      <th>trip_duration</th>\n",
       "      <th>distance_traveled</th>\n",
       "      <th>num_of_passengers</th>\n",
       "      <th>total_fare</th>\n",
       "      <th>surge_applied</th>\n",
       "    </tr>\n",
       "  </thead>\n",
       "  <tbody>\n",
       "    <tr>\n",
       "      <th>0</th>\n",
       "      <td>1076.0</td>\n",
       "      <td>4.18</td>\n",
       "      <td>1.0</td>\n",
       "      <td>0</td>\n",
       "      <td>0</td>\n",
       "    </tr>\n",
       "    <tr>\n",
       "      <th>1</th>\n",
       "      <td>429.0</td>\n",
       "      <td>1.48</td>\n",
       "      <td>4.0</td>\n",
       "      <td>0</td>\n",
       "      <td>0</td>\n",
       "    </tr>\n",
       "    <tr>\n",
       "      <th>2</th>\n",
       "      <td>856.0</td>\n",
       "      <td>4.15</td>\n",
       "      <td>1.0</td>\n",
       "      <td>0</td>\n",
       "      <td>0</td>\n",
       "    </tr>\n",
       "    <tr>\n",
       "      <th>3</th>\n",
       "      <td>622.0</td>\n",
       "      <td>3.22</td>\n",
       "      <td>1.0</td>\n",
       "      <td>0</td>\n",
       "      <td>0</td>\n",
       "    </tr>\n",
       "    <tr>\n",
       "      <th>4</th>\n",
       "      <td>507.0</td>\n",
       "      <td>3.98</td>\n",
       "      <td>1.0</td>\n",
       "      <td>0</td>\n",
       "      <td>0</td>\n",
       "    </tr>\n",
       "    <tr>\n",
       "      <th>...</th>\n",
       "      <td>...</td>\n",
       "      <td>...</td>\n",
       "      <td>...</td>\n",
       "      <td>...</td>\n",
       "      <td>...</td>\n",
       "    </tr>\n",
       "    <tr>\n",
       "      <th>89856</th>\n",
       "      <td>435.0</td>\n",
       "      <td>2.24</td>\n",
       "      <td>1.0</td>\n",
       "      <td>0</td>\n",
       "      <td>0</td>\n",
       "    </tr>\n",
       "    <tr>\n",
       "      <th>89857</th>\n",
       "      <td>519.0</td>\n",
       "      <td>2.61</td>\n",
       "      <td>1.0</td>\n",
       "      <td>0</td>\n",
       "      <td>0</td>\n",
       "    </tr>\n",
       "    <tr>\n",
       "      <th>89858</th>\n",
       "      <td>450.0</td>\n",
       "      <td>2.24</td>\n",
       "      <td>1.0</td>\n",
       "      <td>0</td>\n",
       "      <td>1</td>\n",
       "    </tr>\n",
       "    <tr>\n",
       "      <th>89859</th>\n",
       "      <td>919.0</td>\n",
       "      <td>4.12</td>\n",
       "      <td>1.0</td>\n",
       "      <td>0</td>\n",
       "      <td>1</td>\n",
       "    </tr>\n",
       "    <tr>\n",
       "      <th>89860</th>\n",
       "      <td>441.0</td>\n",
       "      <td>3.52</td>\n",
       "      <td>1.0</td>\n",
       "      <td>0</td>\n",
       "      <td>0</td>\n",
       "    </tr>\n",
       "  </tbody>\n",
       "</table>\n",
       "<p>89464 rows × 5 columns</p>\n",
       "</div>"
      ],
      "text/plain": [
       "       trip_duration  distance_traveled  num_of_passengers  total_fare  \\\n",
       "0             1076.0               4.18                1.0           0   \n",
       "1              429.0               1.48                4.0           0   \n",
       "2              856.0               4.15                1.0           0   \n",
       "3              622.0               3.22                1.0           0   \n",
       "4              507.0               3.98                1.0           0   \n",
       "...              ...                ...                ...         ...   \n",
       "89856          435.0               2.24                1.0           0   \n",
       "89857          519.0               2.61                1.0           0   \n",
       "89858          450.0               2.24                1.0           0   \n",
       "89859          919.0               4.12                1.0           0   \n",
       "89860          441.0               3.52                1.0           0   \n",
       "\n",
       "       surge_applied  \n",
       "0                  0  \n",
       "1                  0  \n",
       "2                  0  \n",
       "3                  0  \n",
       "4                  0  \n",
       "...              ...  \n",
       "89856              0  \n",
       "89857              0  \n",
       "89858              1  \n",
       "89859              1  \n",
       "89860              0  \n",
       "\n",
       "[89464 rows x 5 columns]"
      ]
     },
     "execution_count": 58,
     "metadata": {},
     "output_type": "execute_result"
    }
   ],
   "source": [
    "test"
   ]
  },
  {
   "cell_type": "code",
   "execution_count": 59,
   "id": "cbcf6236",
   "metadata": {},
   "outputs": [
    {
     "data": {
      "text/plain": [
       "trip_duration        float64\n",
       "distance_traveled    float64\n",
       "num_of_passengers    float64\n",
       "total_fare             int64\n",
       "surge_applied          int64\n",
       "dtype: object"
      ]
     },
     "execution_count": 59,
     "metadata": {},
     "output_type": "execute_result"
    }
   ],
   "source": [
    "test.dtypes"
   ]
  },
  {
   "cell_type": "code",
   "execution_count": 60,
   "id": "9484c69a",
   "metadata": {},
   "outputs": [],
   "source": [
    "train[\"num_of_passengers\"]=train[\"num_of_passengers\"].astype(\"int64\")"
   ]
  },
  {
   "cell_type": "code",
   "execution_count": 61,
   "id": "41f64aa2",
   "metadata": {},
   "outputs": [
    {
     "data": {
      "text/plain": [
       "trip_duration        float64\n",
       "distance_traveled    float64\n",
       "num_of_passengers      int64\n",
       "total_fare           float64\n",
       "surge_applied          int64\n",
       "dtype: object"
      ]
     },
     "execution_count": 61,
     "metadata": {},
     "output_type": "execute_result"
    }
   ],
   "source": [
    "train.dtypes"
   ]
  },
  {
   "cell_type": "code",
   "execution_count": 62,
   "id": "3f2b1b1f",
   "metadata": {},
   "outputs": [],
   "source": [
    "train[\"trip_duration\"]=train[\"trip_duration\"].astype(\"int64\")"
   ]
  },
  {
   "cell_type": "code",
   "execution_count": 63,
   "id": "3fac983c",
   "metadata": {},
   "outputs": [],
   "source": [
    "train[\"distance_traveled\"]=train[\"distance_traveled\"].astype(\"int64\")"
   ]
  },
  {
   "cell_type": "code",
   "execution_count": 64,
   "id": "cea6f5bf",
   "metadata": {},
   "outputs": [],
   "source": [
    "train[\"total_fare\"]=train[\"total_fare\"].astype(\"int64\")"
   ]
  },
  {
   "cell_type": "code",
   "execution_count": 65,
   "id": "6bfad094",
   "metadata": {},
   "outputs": [
    {
     "data": {
      "text/plain": [
       "trip_duration        int64\n",
       "distance_traveled    int64\n",
       "num_of_passengers    int64\n",
       "total_fare           int64\n",
       "surge_applied        int64\n",
       "dtype: object"
      ]
     },
     "execution_count": 65,
     "metadata": {},
     "output_type": "execute_result"
    }
   ],
   "source": [
    "train.dtypes"
   ]
  },
  {
   "cell_type": "code",
   "execution_count": 66,
   "id": "a9208d23",
   "metadata": {},
   "outputs": [],
   "source": [
    "train[\"distance_traveled\"]=train[\"distance_traveled\"].astype(\"float64\")"
   ]
  },
  {
   "cell_type": "code",
   "execution_count": 67,
   "id": "dadc0a46",
   "metadata": {},
   "outputs": [
    {
     "data": {
      "text/plain": [
       "trip_duration          int64\n",
       "distance_traveled    float64\n",
       "num_of_passengers      int64\n",
       "total_fare             int64\n",
       "surge_applied          int64\n",
       "dtype: object"
      ]
     },
     "execution_count": 67,
     "metadata": {},
     "output_type": "execute_result"
    }
   ],
   "source": [
    "train.dtypes"
   ]
  },
  {
   "cell_type": "code",
   "execution_count": 68,
   "id": "9b1e4f0c",
   "metadata": {},
   "outputs": [],
   "source": [
    "test[\"trip_duration\"]=test[\"trip_duration\"].astype(\"int64\")"
   ]
  },
  {
   "cell_type": "code",
   "execution_count": 69,
   "id": "384fd69d",
   "metadata": {},
   "outputs": [],
   "source": [
    "test[\"num_of_passengers\"]=test[\"num_of_passengers\"].astype(\"int64\")"
   ]
  },
  {
   "cell_type": "code",
   "execution_count": 70,
   "id": "f1fa8ab6",
   "metadata": {},
   "outputs": [
    {
     "data": {
      "text/plain": [
       "trip_duration          int64\n",
       "distance_traveled    float64\n",
       "num_of_passengers      int64\n",
       "total_fare             int64\n",
       "surge_applied          int64\n",
       "dtype: object"
      ]
     },
     "execution_count": 70,
     "metadata": {},
     "output_type": "execute_result"
    }
   ],
   "source": [
    "test.dtypes"
   ]
  },
  {
   "cell_type": "code",
   "execution_count": 71,
   "id": "5ceaed56",
   "metadata": {},
   "outputs": [
    {
     "data": {
      "text/plain": [
       "<Axes: xlabel='num_of_passengers', ylabel='count'>"
      ]
     },
     "execution_count": 71,
     "metadata": {},
     "output_type": "execute_result"
    },
    {
     "data": {
      "image/png": "[encoded data removed]",
      "text/plain": [
       "<Figure size 1500x700 with 1 Axes>"
      ]
     },
     "metadata": {},
     "output_type": "display_data"
    }
   ],
   "source": [
    "plt.figure(figsize=(15,7))\n",
    "sns.countplot(x=\"num_of_passengers\",data=train)"
   ]
  },
  {
   "cell_type": "code",
   "execution_count": 72,
   "id": "5a995423",
   "metadata": {},
   "outputs": [
    {
     "data": {
      "image/png": "[encoded data removed]",
      "text/plain": [
       "<Figure size 1500x700 with 1 Axes>"
      ]
     },
     "metadata": {},
     "output_type": "display_data"
    }
   ],
   "source": [
    "plt.figure(figsize=(15,7))\n",
    "plt.scatter(x=train[\"num_of_passengers\"],y=train[\"total_fare\"],s=10)\n",
    "plt.xlabel(\"number of passenger\")\n",
    "plt.ylabel(\"total faree\")\n",
    "plt.show()"
   ]
  },
  {
   "cell_type": "code",
   "execution_count": 73,
   "id": "19cf3203",
   "metadata": {},
   "outputs": [
    {
     "data": {
      "image/png": "[encoded data removed]",
      "text/plain": [
       "<Figure size 1500x700 with 1 Axes>"
      ]
     },
     "metadata": {},
     "output_type": "display_data"
    }
   ],
   "source": [
    "plt.figure(figsize=(15,7))\n",
    "plt.scatter(x=train[\"trip_duration\"],y=train[\"total_fare\"],s=10)\n",
    "plt.xlabel(\"trip duration\")\n",
    "plt.ylabel(\"total faree\")\n",
    "plt.show()"
   ]
  },
  {
   "cell_type": "code",
   "execution_count": 74,
   "id": "01fdcadb",
   "metadata": {},
   "outputs": [
    {
     "data": {
      "image/png": "[encoded data removed]",
      "text/plain": [
       "<Figure size 1500x700 with 1 Axes>"
      ]
     },
     "metadata": {},
     "output_type": "display_data"
    }
   ],
   "source": [
    "plt.figure(figsize=(15,7))\n",
    "plt.scatter(x=train[\"distance_traveled\"],y=train[\"total_fare\"],s=10,c=\"g\")\n",
    "plt.xlabel(\"distance\")\n",
    "plt.ylabel(\"total faree\")\n",
    "plt.show()"
   ]
  },
  {
   "cell_type": "code",
   "execution_count": 75,
   "id": "0b87ad3b",
   "metadata": {},
   "outputs": [
    {
     "name": "stdout",
     "output_type": "stream",
     "text": [
      "total_fare\n"
     ]
    },
    {
     "name": "stderr",
     "output_type": "stream",
     "text": [
      "/var/folders/4r/12d0sssd0mdbgwbrthd30jk40000gn/T/ipykernel_1757/2524115376.py:3: UserWarning: \n",
      "\n",
      "`distplot` is a deprecated function and will be removed in seaborn v0.14.0.\n",
      "\n",
      "Please adapt your code to use either `displot` (a figure-level function with\n",
      "similar flexibility) or `histplot` (an axes-level function for histograms).\n",
      "\n",
      "For a guide to updating your code to use the new functions, please see\n",
      "https://gist.github.com/mwaskom/de44147ed2974457ad6372750bbe5751\n",
      "\n",
      "  sns.distplot(train[i],bins='auto',color='green')\n"
     ]
    },
    {
     "data": {
      "image/png": "[encoded data removed]",
      "text/plain": [
       "<Figure size 640x480 with 1 Axes>"
      ]
     },
     "metadata": {},
     "output_type": "display_data"
    },
    {
     "name": "stdout",
     "output_type": "stream",
     "text": [
      "distance_traveled\n"
     ]
    },
    {
     "name": "stderr",
     "output_type": "stream",
     "text": [
      "/var/folders/4r/12d0sssd0mdbgwbrthd30jk40000gn/T/ipykernel_1757/2524115376.py:3: UserWarning: \n",
      "\n",
      "`distplot` is a deprecated function and will be removed in seaborn v0.14.0.\n",
      "\n",
      "Please adapt your code to use either `displot` (a figure-level function with\n",
      "similar flexibility) or `histplot` (an axes-level function for histograms).\n",
      "\n",
      "For a guide to updating your code to use the new functions, please see\n",
      "https://gist.github.com/mwaskom/de44147ed2974457ad6372750bbe5751\n",
      "\n",
      "  sns.distplot(train[i],bins='auto',color='green')\n"
     ]
    },
    {
     "data": {
      "image/png": "[encoded data removed]",
      "text/plain": [
       "<Figure size 640x480 with 1 Axes>"
      ]
     },
     "metadata": {},
     "output_type": "display_data"
    }
   ],
   "source": [
    "for i in [\"total_fare\",\"distance_traveled\"]:\n",
    "    print (i)\n",
    "    sns.distplot(train[i],bins='auto',color='green')\n",
    "    plt.title(\"distribution for varaible:\"+i)\n",
    "    plt.ylabel(\"density\")\n",
    "    plt.show()"
   ]
  },
  {
   "cell_type": "code",
   "execution_count": 76,
   "id": "e139f5fe",
   "metadata": {},
   "outputs": [],
   "source": [
    "train[\"total_fare\"]= np.log1p(train[\"total_fare\"])\n",
    "train[\"distance_traveled\"]=np.log1p(train[\"distance_traveled\"])"
   ]
  },
  {
   "cell_type": "code",
   "execution_count": 77,
   "id": "a29a7dbf",
   "metadata": {},
   "outputs": [
    {
     "name": "stdout",
     "output_type": "stream",
     "text": [
      "total_fare\n"
     ]
    },
    {
     "name": "stderr",
     "output_type": "stream",
     "text": [
      "/var/folders/4r/12d0sssd0mdbgwbrthd30jk40000gn/T/ipykernel_1757/2524115376.py:3: UserWarning: \n",
      "\n",
      "`distplot` is a deprecated function and will be removed in seaborn v0.14.0.\n",
      "\n",
      "Please adapt your code to use either `displot` (a figure-level function with\n",
      "similar flexibility) or `histplot` (an axes-level function for histograms).\n",
      "\n",
      "For a guide to updating your code to use the new functions, please see\n",
      "https://gist.github.com/mwaskom/de44147ed2974457ad6372750bbe5751\n",
      "\n",
      "  sns.distplot(train[i],bins='auto',color='green')\n"
     ]
    },
    {
     "data": {
      "image/png": "[encoded data removed]",
      "text/plain": [
       "<Figure size 640x480 with 1 Axes>"
      ]
     },
     "metadata": {},
     "output_type": "display_data"
    },
    {
     "name": "stdout",
     "output_type": "stream",
     "text": [
      "distance_traveled\n"
     ]
    },
    {
     "name": "stderr",
     "output_type": "stream",
     "text": [
      "/var/folders/4r/12d0sssd0mdbgwbrthd30jk40000gn/T/ipykernel_1757/2524115376.py:3: UserWarning: \n",
      "\n",
      "`distplot` is a deprecated function and will be removed in seaborn v0.14.0.\n",
      "\n",
      "Please adapt your code to use either `displot` (a figure-level function with\n",
      "similar flexibility) or `histplot` (an axes-level function for histograms).\n",
      "\n",
      "For a guide to updating your code to use the new functions, please see\n",
      "https://gist.github.com/mwaskom/de44147ed2974457ad6372750bbe5751\n",
      "\n",
      "  sns.distplot(train[i],bins='auto',color='green')\n"
     ]
    },
    {
     "data": {
      "image/png": "[encoded data removed]",
      "text/plain": [
       "<Figure size 640x480 with 1 Axes>"
      ]
     },
     "metadata": {},
     "output_type": "display_data"
    }
   ],
   "source": [
    "for i in [\"total_fare\",\"distance_traveled\"]:\n",
    "    print (i)\n",
    "    sns.distplot(train[i],bins='auto',color='green')\n",
    "    plt.title(\"distribution for varaible:\"+i)\n",
    "    plt.ylabel(\"density\")\n",
    "    plt.show()"
   ]
  },
  {
   "cell_type": "code",
   "execution_count": 78,
   "id": "139ddefc",
   "metadata": {},
   "outputs": [
    {
     "name": "stdout",
     "output_type": "stream",
     "text": [
      "distance_traveled\n"
     ]
    },
    {
     "name": "stderr",
     "output_type": "stream",
     "text": [
      "/var/folders/4r/12d0sssd0mdbgwbrthd30jk40000gn/T/ipykernel_1757/3988461798.py:3: UserWarning: \n",
      "\n",
      "`distplot` is a deprecated function and will be removed in seaborn v0.14.0.\n",
      "\n",
      "Please adapt your code to use either `displot` (a figure-level function with\n",
      "similar flexibility) or `histplot` (an axes-level function for histograms).\n",
      "\n",
      "For a guide to updating your code to use the new functions, please see\n",
      "https://gist.github.com/mwaskom/de44147ed2974457ad6372750bbe5751\n",
      "\n",
      "  sns.distplot(test[i],bins='auto',color='green')\n"
     ]
    },
    {
     "data": {
      "image/png": "[encoded data removed]",
      "text/plain": [
       "<Figure size 640x480 with 1 Axes>"
      ]
     },
     "metadata": {},
     "output_type": "display_data"
    }
   ],
   "source": [
    "for i in [\"distance_traveled\"]:\n",
    "    print (i)\n",
    "    sns.distplot(test[i],bins='auto',color='green')\n",
    "    plt.title(\"distribution for varaible:\"+i)\n",
    "    plt.ylabel(\"density\")\n",
    "    plt.show()"
   ]
  },
  {
   "cell_type": "code",
   "execution_count": 79,
   "id": "4ac926fc",
   "metadata": {},
   "outputs": [],
   "source": [
    "x_train,x_test,y_train,y_test=train_test_split(train.iloc[:,train.columns!= 'total_fare'],train.iloc[:,3],test_size=0.20,random_state=1)"
   ]
  },
  {
   "cell_type": "code",
   "execution_count": 80,
   "id": "74429af2",
   "metadata": {},
   "outputs": [
    {
     "data": {
      "text/html": [
       "<div>\n",
       "<style scoped>\n",
       "    .dataframe tbody tr th:only-of-type {\n",
       "        vertical-align: middle;\n",
       "    }\n",
       "\n",
       "    .dataframe tbody tr th {\n",
       "        vertical-align: top;\n",
       "    }\n",
       "\n",
       "    .dataframe thead th {\n",
       "        text-align: right;\n",
       "    }\n",
       "</style>\n",
       "<table border=\"1\" class=\"dataframe\">\n",
       "  <thead>\n",
       "    <tr style=\"text-align: right;\">\n",
       "      <th></th>\n",
       "      <th>trip_duration</th>\n",
       "      <th>distance_traveled</th>\n",
       "      <th>num_of_passengers</th>\n",
       "      <th>surge_applied</th>\n",
       "    </tr>\n",
       "  </thead>\n",
       "  <tbody>\n",
       "    <tr>\n",
       "      <th>157864</th>\n",
       "      <td>372</td>\n",
       "      <td>0.693147</td>\n",
       "      <td>1</td>\n",
       "      <td>0</td>\n",
       "    </tr>\n",
       "    <tr>\n",
       "      <th>43757</th>\n",
       "      <td>4156</td>\n",
       "      <td>2.564949</td>\n",
       "      <td>2</td>\n",
       "      <td>0</td>\n",
       "    </tr>\n",
       "    <tr>\n",
       "      <th>42446</th>\n",
       "      <td>907</td>\n",
       "      <td>0.000000</td>\n",
       "      <td>1</td>\n",
       "      <td>0</td>\n",
       "    </tr>\n",
       "    <tr>\n",
       "      <th>127019</th>\n",
       "      <td>1292</td>\n",
       "      <td>1.609438</td>\n",
       "      <td>1</td>\n",
       "      <td>0</td>\n",
       "    </tr>\n",
       "    <tr>\n",
       "      <th>197374</th>\n",
       "      <td>523</td>\n",
       "      <td>1.098612</td>\n",
       "      <td>1</td>\n",
       "      <td>0</td>\n",
       "    </tr>\n",
       "    <tr>\n",
       "      <th>...</th>\n",
       "      <td>...</td>\n",
       "      <td>...</td>\n",
       "      <td>...</td>\n",
       "      <td>...</td>\n",
       "    </tr>\n",
       "    <tr>\n",
       "      <th>74651</th>\n",
       "      <td>470</td>\n",
       "      <td>1.098612</td>\n",
       "      <td>1</td>\n",
       "      <td>0</td>\n",
       "    </tr>\n",
       "    <tr>\n",
       "      <th>111170</th>\n",
       "      <td>482</td>\n",
       "      <td>1.098612</td>\n",
       "      <td>1</td>\n",
       "      <td>0</td>\n",
       "    </tr>\n",
       "    <tr>\n",
       "      <th>50975</th>\n",
       "      <td>1615</td>\n",
       "      <td>2.484907</td>\n",
       "      <td>1</td>\n",
       "      <td>0</td>\n",
       "    </tr>\n",
       "    <tr>\n",
       "      <th>5294</th>\n",
       "      <td>703</td>\n",
       "      <td>1.609438</td>\n",
       "      <td>1</td>\n",
       "      <td>0</td>\n",
       "    </tr>\n",
       "    <tr>\n",
       "      <th>130290</th>\n",
       "      <td>401</td>\n",
       "      <td>0.693147</td>\n",
       "      <td>1</td>\n",
       "      <td>0</td>\n",
       "    </tr>\n",
       "  </tbody>\n",
       "</table>\n",
       "<p>164849 rows × 4 columns</p>\n",
       "</div>"
      ],
      "text/plain": [
       "        trip_duration  distance_traveled  num_of_passengers  surge_applied\n",
       "157864            372           0.693147                  1              0\n",
       "43757            4156           2.564949                  2              0\n",
       "42446             907           0.000000                  1              0\n",
       "127019           1292           1.609438                  1              0\n",
       "197374            523           1.098612                  1              0\n",
       "...               ...                ...                ...            ...\n",
       "74651             470           1.098612                  1              0\n",
       "111170            482           1.098612                  1              0\n",
       "50975            1615           2.484907                  1              0\n",
       "5294              703           1.609438                  1              0\n",
       "130290            401           0.693147                  1              0\n",
       "\n",
       "[164849 rows x 4 columns]"
      ]
     },
     "execution_count": 80,
     "metadata": {},
     "output_type": "execute_result"
    }
   ],
   "source": [
    "x_train"
   ]
  },
  {
   "cell_type": "code",
   "execution_count": 81,
   "id": "eceb37b2",
   "metadata": {},
   "outputs": [
    {
     "data": {
      "text/plain": [
       "157864    3.871201\n",
       "43757     5.796058\n",
       "42446     5.828946\n",
       "127019    4.812184\n",
       "197374    4.682131\n",
       "            ...   \n",
       "74651     4.382027\n",
       "111170    4.276666\n",
       "50975     5.659482\n",
       "5294      4.709530\n",
       "130290    4.189655\n",
       "Name: total_fare, Length: 164849, dtype: float64"
      ]
     },
     "execution_count": 81,
     "metadata": {},
     "output_type": "execute_result"
    }
   ],
   "source": [
    "y_train"
   ]
  },
  {
   "cell_type": "code",
   "execution_count": 82,
   "id": "600c0225",
   "metadata": {},
   "outputs": [
    {
     "data": {
      "text/plain": [
       "(164849, 4)"
      ]
     },
     "execution_count": 82,
     "metadata": {},
     "output_type": "execute_result"
    }
   ],
   "source": [
    "x_train.shape"
   ]
  },
  {
   "cell_type": "code",
   "execution_count": 83,
   "id": "849d4c8d",
   "metadata": {},
   "outputs": [
    {
     "data": {
      "text/plain": [
       "(41213, 4)"
      ]
     },
     "execution_count": 83,
     "metadata": {},
     "output_type": "execute_result"
    }
   ],
   "source": [
    "x_test.shape"
   ]
  },
  {
   "cell_type": "code",
   "execution_count": 84,
   "id": "01ce3665",
   "metadata": {},
   "outputs": [
    {
     "data": {
      "text/plain": [
       "157864    3.871201\n",
       "43757     5.796058\n",
       "42446     5.828946\n",
       "127019    4.812184\n",
       "197374    4.682131\n",
       "            ...   \n",
       "74651     4.382027\n",
       "111170    4.276666\n",
       "50975     5.659482\n",
       "5294      4.709530\n",
       "130290    4.189655\n",
       "Name: total_fare, Length: 164849, dtype: float64"
      ]
     },
     "execution_count": 84,
     "metadata": {},
     "output_type": "execute_result"
    }
   ],
   "source": [
    "y_test\n",
    "y_train"
   ]
  },
  {
   "cell_type": "code",
   "execution_count": 114,
   "id": "71988356",
   "metadata": {},
   "outputs": [],
   "source": [
    "fit_LR=LinearRegression().fit(x_train,y_train)"
   ]
  },
  {
   "cell_type": "code",
   "execution_count": 115,
   "id": "5fd07018",
   "metadata": {},
   "outputs": [],
   "source": [
    "pred_train_lr=fit_LR.predict(x_train)\n",
    "pred_test_lr=fit_LR.predict(x_test)"
   ]
  },
  {
   "cell_type": "code",
   "execution_count": 116,
   "id": "3e74a7bb",
   "metadata": {},
   "outputs": [],
   "source": [
    "rmse_lr_train=np.sqrt(mean_squared_error(y_train,pred_train_lr))\n",
    "rmse_lr_test=np.sqrt(mean_squared_error(y_test,pred_test_lr))"
   ]
  },
  {
   "cell_type": "code",
   "execution_count": 117,
   "id": "5234de6b",
   "metadata": {},
   "outputs": [
    {
     "name": "stdout",
     "output_type": "stream",
     "text": [
      "root mean sqaured value of train data:0.23772596294488327\n",
      "root mean squared value of test data:0.2420432087748733\n"
     ]
    }
   ],
   "source": [
    "print(\"root mean sqaured value of train data:\" +str(rmse_lr_train))\n",
    "print(\"root mean squared value of test data:\" +str(rmse_lr_test))"
   ]
  },
  {
   "cell_type": "code",
   "execution_count": 118,
   "id": "da273df1",
   "metadata": {},
   "outputs": [
    {
     "data": {
      "text/plain": [
       "0.7958869328141039"
      ]
     },
     "execution_count": 118,
     "metadata": {},
     "output_type": "execute_result"
    }
   ],
   "source": [
    "from sklearn.metrics import r2_score\n",
    "r2_score(y_train,pred_train_lr)\n",
    "r2_score(y_test,pred_test_lr)"
   ]
  },
  {
   "cell_type": "code",
   "execution_count": 119,
   "id": "cdbee363",
   "metadata": {},
   "outputs": [],
   "source": [
    "# descion tree"
   ]
  },
  {
   "cell_type": "code",
   "execution_count": 120,
   "id": "0ac56d2a",
   "metadata": {},
   "outputs": [],
   "source": [
    "fit_dt=DecisionTreeRegressor(max_depth=3).fit(x_train,y_train)"
   ]
  },
  {
   "cell_type": "code",
   "execution_count": 121,
   "id": "60b4e0fc",
   "metadata": {},
   "outputs": [],
   "source": [
    "pred_train_dt=fit_dt.predict(x_train)\n",
    "pred_test_dt=fit_dt.predict(x_test)"
   ]
  },
  {
   "cell_type": "code",
   "execution_count": 122,
   "id": "2b670518",
   "metadata": {},
   "outputs": [],
   "source": [
    "rmse_train_dt=np.sqrt(mean_squared_error(y_train,pred_train_dt))\n",
    "rmse_test_dt= np.sqrt(mean_squared_error(y_test,pred_test_dt))"
   ]
  },
  {
   "cell_type": "code",
   "execution_count": 123,
   "id": "0f70d28d",
   "metadata": {},
   "outputs": [
    {
     "name": "stdout",
     "output_type": "stream",
     "text": [
      "root mean sqaured value of train data:0.24140715515250427\n",
      "root mean squared value of test data:0.24384336000356488\n"
     ]
    }
   ],
   "source": [
    "print(\"root mean sqaured value of train data:\" +str(rmse_train_dt))\n",
    "print(\"root mean squared value of test data:\" +str(rmse_test_dt))"
   ]
  },
  {
   "cell_type": "code",
   "execution_count": 124,
   "id": "7aca8bbe",
   "metadata": {},
   "outputs": [
    {
     "data": {
      "text/plain": [
       "0.7928395368311594"
      ]
     },
     "execution_count": 124,
     "metadata": {},
     "output_type": "execute_result"
    }
   ],
   "source": [
    "r2_score(y_train,pred_train_dt)\n",
    "r2_score(y_test,pred_test_dt)"
   ]
  },
  {
   "cell_type": "code",
   "execution_count": 125,
   "id": "7c6c7f2b",
   "metadata": {},
   "outputs": [
    {
     "data": {
      "text/plain": [
       "0.7928395368311594"
      ]
     },
     "execution_count": 125,
     "metadata": {},
     "output_type": "execute_result"
    }
   ],
   "source": [
    "r2_score(y_test,pred_test_dt)"
   ]
  },
  {
   "cell_type": "code",
   "execution_count": 126,
   "id": "79c7481d",
   "metadata": {},
   "outputs": [],
   "source": [
    "#random forest\n"
   ]
  },
  {
   "cell_type": "code",
   "execution_count": 127,
   "id": "a8206fa9",
   "metadata": {},
   "outputs": [],
   "source": [
    "fit_rf=RandomForestRegressor(n_estimators=200).fit(x_train,y_train)"
   ]
  },
  {
   "cell_type": "code",
   "execution_count": 128,
   "id": "aa94431d",
   "metadata": {},
   "outputs": [],
   "source": [
    "pred_x_train_rf=fit_rf.predict(x_train)\n",
    "pred_x_test_rf= fit_rf.predict(x_test)"
   ]
  },
  {
   "cell_type": "code",
   "execution_count": 129,
   "id": "c8172141",
   "metadata": {},
   "outputs": [],
   "source": [
    "rmse_train_rf=np.sqrt(mean_squared_error(y_train,pred_x_train_rf))\n",
    "rmse_test_rf= np.sqrt(mean_squared_error(y_test,pred_x_test_rf))"
   ]
  },
  {
   "cell_type": "code",
   "execution_count": 130,
   "id": "3578da7b",
   "metadata": {},
   "outputs": [
    {
     "name": "stdout",
     "output_type": "stream",
     "text": [
      "root mean sqaured value of train data:0.154792882439351\n",
      "root mean squared value of test data:0.2002334175304887\n"
     ]
    }
   ],
   "source": [
    "print(\"root mean sqaured value of train data:\" +str(rmse_train_rf))\n",
    "print(\"root mean squared value of test data:\" +str(rmse_test_rf))"
   ]
  },
  {
   "cell_type": "code",
   "execution_count": 131,
   "id": "82be0429",
   "metadata": {},
   "outputs": [
    {
     "data": {
      "text/plain": [
       "0.8603123133741675"
      ]
     },
     "execution_count": 131,
     "metadata": {},
     "output_type": "execute_result"
    }
   ],
   "source": [
    "r2_score(y_train,pred_x_train_rf)\n",
    "r2_score(y_test,pred_x_test_rf)"
   ]
  },
  {
   "cell_type": "code",
   "execution_count": 132,
   "id": "412f4f3e",
   "metadata": {},
   "outputs": [],
   "source": [
    "#gradient boosting"
   ]
  },
  {
   "cell_type": "code",
   "execution_count": 133,
   "id": "e5bb92e6",
   "metadata": {},
   "outputs": [],
   "source": [
    "fit_gb=GradientBoostingRegressor().fit(x_train,y_train)"
   ]
  },
  {
   "cell_type": "code",
   "execution_count": 105,
   "id": "333e1387",
   "metadata": {},
   "outputs": [],
   "source": [
    "pred_train_gb=fit_gb.predict(x_train)\n",
    "pred_test_gb=fit_gb.predict(x_test)"
   ]
  },
  {
   "cell_type": "code",
   "execution_count": 106,
   "id": "1bba8bb5",
   "metadata": {},
   "outputs": [],
   "source": [
    "rmse_train_gb=np.sqrt(mean_squared_error(y_train,pred_train_gb))\n",
    "rmse_test_gb= np.sqrt(mean_squared_error(y_test,pred_test_gb))"
   ]
  },
  {
   "cell_type": "code",
   "execution_count": 107,
   "id": "868210d7",
   "metadata": {},
   "outputs": [
    {
     "name": "stdout",
     "output_type": "stream",
     "text": [
      "root mean sqaured value of train data:0.18260766869468564\n",
      "root mean squared value of test data:0.18826481288217514\n"
     ]
    }
   ],
   "source": [
    "print(\"root mean sqaured value of train data:\" +str(rmse_train_gb))\n",
    "print(\"root mean squared value of test data:\" +str(rmse_test_gb))"
   ]
  },
  {
   "cell_type": "code",
   "execution_count": 108,
   "id": "7ab2d355",
   "metadata": {},
   "outputs": [
    {
     "data": {
      "text/plain": [
       "0.8765124087623519"
      ]
     },
     "execution_count": 108,
     "metadata": {},
     "output_type": "execute_result"
    }
   ],
   "source": [
    "r2_score(y_train,pred_train_gb)\n",
    "r2_score(y_test,pred_test_gb)"
   ]
  },
  {
   "cell_type": "code",
   "execution_count": 109,
   "id": "8e56562c",
   "metadata": {},
   "outputs": [
    {
     "name": "stdout",
     "output_type": "stream",
     "text": [
      "parameters in juse\n",
      "{'bootstrap': True,\n",
      " 'ccp_alpha': 0.0,\n",
      " 'criterion': 'squared_error',\n",
      " 'max_depth': None,\n",
      " 'max_features': 1.0,\n",
      " 'max_leaf_nodes': None,\n",
      " 'max_samples': None,\n",
      " 'min_impurity_decrease': 0.0,\n",
      " 'min_samples_leaf': 1,\n",
      " 'min_samples_split': 2,\n",
      " 'min_weight_fraction_leaf': 0.0,\n",
      " 'n_estimators': 100,\n",
      " 'n_jobs': None,\n",
      " 'oob_score': False,\n",
      " 'random_state': 42,\n",
      " 'verbose': 0,\n",
      " 'warm_start': False}\n"
     ]
    }
   ],
   "source": [
    "rf=RandomForestRegressor(random_state=42)\n",
    "print(\"parameters in juse\")\n",
    "pprint(rf.get_params()) "
   ]
  },
  {
   "cell_type": "code",
   "execution_count": 136,
   "id": "cb05846b",
   "metadata": {},
   "outputs": [
    {
     "data": {
      "text/plain": [
       "(164849,)"
      ]
     },
     "execution_count": 136,
     "metadata": {},
     "output_type": "execute_result"
    }
   ],
   "source": [
    "\n",
    "y_train.shape"
   ]
  },
  {
   "cell_type": "raw",
   "id": "35cd0038",
   "metadata": {},
   "source": [
    "rrf=RandomForestRegressor(random_state=0)\n",
    "n_estimator=list(range(1,20,2))\n",
    "depth=list(range(1,100,2))\n",
    "rand_grid={'n_estimator':n_estimator,\n",
    "            'max_depth':depth}\n",
    "rand_cv = RandomizedSearchCV(rrf,param_distributions=rand_grid,n_iter=5,cv=5,random_state=0)\n",
    "rand_rf = rand_cv.fit(x_train,y_train)\n",
    "pred_rrf=rand_rf.predict(x_test)\n",
    "veiw_bestparams=rand_rf.best_params_\n",
    "best_model=rand_rf.best_estimator_\n",
    "predict_rrf=best_model.predict(x_test)\n",
    "rrf_r2=r2_score(y_test,pred_rrf)\n",
    "rrf_rmse=np.sqrt(mean_squared_error(y_test,predict_rrf))"
   ]
  },
  {
   "cell_type": "code",
   "execution_count": null,
   "id": "5ddea5d7",
   "metadata": {},
   "outputs": [],
   "source": [
    "gb=GradientBoostingRegressor(random_state=42)\n",
    "print(\"parameters in juse\")\n",
    "pprint(gb.get_params()) "
   ]
  },
  {
   "cell_type": "code",
   "execution_count": 1,
   "id": "65b66ed1",
   "metadata": {},
   "outputs": [
    {
     "ename": "NameError",
     "evalue": "name 'GradientBoostingRegressor' is not defined",
     "output_type": "error",
     "traceback": [
      "\u001b[0;31m---------------------------------------------------------------------------\u001b[0m",
      "\u001b[0;31mNameError\u001b[0m                                 Traceback (most recent call last)",
      "Cell \u001b[0;32mIn[1], line 1\u001b[0m\n\u001b[0;32m----> 1\u001b[0m gb\u001b[38;5;241m=\u001b[39m\u001b[43mGradientBoostingRegressor\u001b[49m(random_state\u001b[38;5;241m=\u001b[39m\u001b[38;5;241m0\u001b[39m)\n\u001b[1;32m      2\u001b[0m n_estimator\u001b[38;5;241m=\u001b[39m\u001b[38;5;28mlist\u001b[39m(\u001b[38;5;28mrange\u001b[39m(\u001b[38;5;241m1\u001b[39m,\u001b[38;5;241m20\u001b[39m,\u001b[38;5;241m2\u001b[39m))\n\u001b[1;32m      3\u001b[0m depth\u001b[38;5;241m=\u001b[39m\u001b[38;5;28mlist\u001b[39m(\u001b[38;5;28mrange\u001b[39m(\u001b[38;5;241m1\u001b[39m,\u001b[38;5;241m100\u001b[39m,\u001b[38;5;241m2\u001b[39m))\n",
      "\u001b[0;31mNameError\u001b[0m: name 'GradientBoostingRegressor' is not defined"
     ]
    }
   ],
   "source": [
    "gb=GradientBoostingRegressor(random_state=0)\n",
    "n_estimator=list(range(1,20,2))\n",
    "depth=list(range(1,100,2))\n",
    "rand_grid={'n_estimator':n_estimator, 'max_depth':depth}\n",
    "randcv_gb = RandomizedSearchCV(gb,param_distributions=rand_grid,n_iter=5,cv=5,random_state=0)\n",
    "randcv_GB = randcv_gb.fit(x_train, y_train)\n",
    "pred_gb = randcv_GB.predict(x_test)\n",
    "veiw_bestparams=randcv_GB.best_params_\n",
    "best_model_gb=randcv_GB.best_estimator_\n",
    "predict_rrf_gb=best_model_gb.predict(x_test)\n",
    "rrf_gb_r2=r2_score(y_test,pred_rrf)\n",
    "rrf_rmse_gb=np.sqrt(mean_squared_error(y_test,predict_rrf))"
   ]
  },
  {
   "cell_type": "code",
   "execution_count": 113,
   "id": "c97dc1e9",
   "metadata": {},
   "outputs": [
    {
     "ename": "ValueError",
     "evalue": "Found input variables with inconsistent numbers of samples: [164849, 41213]",
     "output_type": "error",
     "traceback": [
      "\u001b[0;31m---------------------------------------------------------------------------\u001b[0m",
      "\u001b[0;31mValueError\u001b[0m                                Traceback (most recent call last)",
      "Cell \u001b[0;32mIn[113], line 6\u001b[0m\n\u001b[1;32m      4\u001b[0m grid_search\u001b[38;5;241m=\u001b[39m{\u001b[38;5;124m'\u001b[39m\u001b[38;5;124mn_estimator\u001b[39m\u001b[38;5;124m'\u001b[39m:n_estimator,\u001b[38;5;124m'\u001b[39m\u001b[38;5;124mmax_depth\u001b[39m\u001b[38;5;124m'\u001b[39m:depth}\n\u001b[1;32m      5\u001b[0m gridcv_rf\u001b[38;5;241m=\u001b[39mGridSearchCV(rrf,param_grid\u001b[38;5;241m=\u001b[39mgrid_search,cv\u001b[38;5;241m=\u001b[39m\u001b[38;5;241m5\u001b[39m)\n\u001b[0;32m----> 6\u001b[0m gridcv_RF\u001b[38;5;241m=\u001b[39m\u001b[43mgridcv_rf\u001b[49m\u001b[38;5;241;43m.\u001b[39;49m\u001b[43mfit\u001b[49m\u001b[43m(\u001b[49m\u001b[43mx_train\u001b[49m\u001b[43m,\u001b[49m\u001b[43mx_test\u001b[49m\u001b[43m)\u001b[49m\n\u001b[1;32m      7\u001b[0m view_best_params\u001b[38;5;241m=\u001b[39mgridcv_RF\u001b[38;5;241m.\u001b[39mbest_params_\n\u001b[1;32m      8\u001b[0m gridcv_rf_pred_test\u001b[38;5;241m=\u001b[39mgridcv_RF\u001b[38;5;241m.\u001b[39mpredict(test)\n",
      "File \u001b[0;32m~/anaconda3/lib/python3.10/site-packages/sklearn/base.py:1151\u001b[0m, in \u001b[0;36m_fit_context.<locals>.decorator.<locals>.wrapper\u001b[0;34m(estimator, *args, **kwargs)\u001b[0m\n\u001b[1;32m   1144\u001b[0m     estimator\u001b[38;5;241m.\u001b[39m_validate_params()\n\u001b[1;32m   1146\u001b[0m \u001b[38;5;28;01mwith\u001b[39;00m config_context(\n\u001b[1;32m   1147\u001b[0m     skip_parameter_validation\u001b[38;5;241m=\u001b[39m(\n\u001b[1;32m   1148\u001b[0m         prefer_skip_nested_validation \u001b[38;5;129;01mor\u001b[39;00m global_skip_validation\n\u001b[1;32m   1149\u001b[0m     )\n\u001b[1;32m   1150\u001b[0m ):\n\u001b[0;32m-> 1151\u001b[0m     \u001b[38;5;28;01mreturn\u001b[39;00m \u001b[43mfit_method\u001b[49m\u001b[43m(\u001b[49m\u001b[43mestimator\u001b[49m\u001b[43m,\u001b[49m\u001b[43m \u001b[49m\u001b[38;5;241;43m*\u001b[39;49m\u001b[43margs\u001b[49m\u001b[43m,\u001b[49m\u001b[43m \u001b[49m\u001b[38;5;241;43m*\u001b[39;49m\u001b[38;5;241;43m*\u001b[39;49m\u001b[43mkwargs\u001b[49m\u001b[43m)\u001b[49m\n",
      "File \u001b[0;32m~/anaconda3/lib/python3.10/site-packages/sklearn/model_selection/_search.py:806\u001b[0m, in \u001b[0;36mBaseSearchCV.fit\u001b[0;34m(self, X, y, groups, **fit_params)\u001b[0m\n\u001b[1;32m    803\u001b[0m     \u001b[38;5;28mself\u001b[39m\u001b[38;5;241m.\u001b[39m_check_refit_for_multimetric(scorers)\n\u001b[1;32m    804\u001b[0m     refit_metric \u001b[38;5;241m=\u001b[39m \u001b[38;5;28mself\u001b[39m\u001b[38;5;241m.\u001b[39mrefit\n\u001b[0;32m--> 806\u001b[0m X, y, groups \u001b[38;5;241m=\u001b[39m \u001b[43mindexable\u001b[49m\u001b[43m(\u001b[49m\u001b[43mX\u001b[49m\u001b[43m,\u001b[49m\u001b[43m \u001b[49m\u001b[43my\u001b[49m\u001b[43m,\u001b[49m\u001b[43m \u001b[49m\u001b[43mgroups\u001b[49m\u001b[43m)\u001b[49m\n\u001b[1;32m    807\u001b[0m fit_params \u001b[38;5;241m=\u001b[39m _check_fit_params(X, fit_params)\n\u001b[1;32m    809\u001b[0m cv_orig \u001b[38;5;241m=\u001b[39m check_cv(\u001b[38;5;28mself\u001b[39m\u001b[38;5;241m.\u001b[39mcv, y, classifier\u001b[38;5;241m=\u001b[39mis_classifier(estimator))\n",
      "File \u001b[0;32m~/anaconda3/lib/python3.10/site-packages/sklearn/utils/validation.py:455\u001b[0m, in \u001b[0;36mindexable\u001b[0;34m(*iterables)\u001b[0m\n\u001b[1;32m    436\u001b[0m \u001b[38;5;124;03m\"\"\"Make arrays indexable for cross-validation.\u001b[39;00m\n\u001b[1;32m    437\u001b[0m \n\u001b[1;32m    438\u001b[0m \u001b[38;5;124;03mChecks consistent length, passes through None, and ensures that everything\u001b[39;00m\n\u001b[0;32m   (...)\u001b[0m\n\u001b[1;32m    451\u001b[0m \u001b[38;5;124;03m    sparse matrix, or dataframe) or `None`.\u001b[39;00m\n\u001b[1;32m    452\u001b[0m \u001b[38;5;124;03m\"\"\"\u001b[39;00m\n\u001b[1;32m    454\u001b[0m result \u001b[38;5;241m=\u001b[39m [_make_indexable(X) \u001b[38;5;28;01mfor\u001b[39;00m X \u001b[38;5;129;01min\u001b[39;00m iterables]\n\u001b[0;32m--> 455\u001b[0m \u001b[43mcheck_consistent_length\u001b[49m\u001b[43m(\u001b[49m\u001b[38;5;241;43m*\u001b[39;49m\u001b[43mresult\u001b[49m\u001b[43m)\u001b[49m\n\u001b[1;32m    456\u001b[0m \u001b[38;5;28;01mreturn\u001b[39;00m result\n",
      "File \u001b[0;32m~/anaconda3/lib/python3.10/site-packages/sklearn/utils/validation.py:409\u001b[0m, in \u001b[0;36mcheck_consistent_length\u001b[0;34m(*arrays)\u001b[0m\n\u001b[1;32m    407\u001b[0m uniques \u001b[38;5;241m=\u001b[39m np\u001b[38;5;241m.\u001b[39munique(lengths)\n\u001b[1;32m    408\u001b[0m \u001b[38;5;28;01mif\u001b[39;00m \u001b[38;5;28mlen\u001b[39m(uniques) \u001b[38;5;241m>\u001b[39m \u001b[38;5;241m1\u001b[39m:\n\u001b[0;32m--> 409\u001b[0m     \u001b[38;5;28;01mraise\u001b[39;00m \u001b[38;5;167;01mValueError\u001b[39;00m(\n\u001b[1;32m    410\u001b[0m         \u001b[38;5;124m\"\u001b[39m\u001b[38;5;124mFound input variables with inconsistent numbers of samples: \u001b[39m\u001b[38;5;132;01m%r\u001b[39;00m\u001b[38;5;124m\"\u001b[39m\n\u001b[1;32m    411\u001b[0m         \u001b[38;5;241m%\u001b[39m [\u001b[38;5;28mint\u001b[39m(l) \u001b[38;5;28;01mfor\u001b[39;00m l \u001b[38;5;129;01min\u001b[39;00m lengths]\n\u001b[1;32m    412\u001b[0m     )\n",
      "\u001b[0;31mValueError\u001b[0m: Found input variables with inconsistent numbers of samples: [164849, 41213]"
     ]
    }
   ],
   "source": [
    "rff=  RandomForestRegressor(random_state=0)\n",
    "n_estimator=list(range(1,20,1))\n",
    "depth=list(range(5,15,2))\n",
    "grid_search={'n_estimator':n_estimator,'max_depth':depth}\n",
    "gridcv_rf=GridSearchCV(rrf,param_grid=grid_search,cv=5)\n",
    "gridcv_RF=gridcv_rf.fit(x_train,y_train)\n",
    "view_best_params=gridcv_RF.best_params_\n",
    "gridcv_rf_pred_test=gridcv_RF.predict(test)\n"
   ]
  },
  {
   "cell_type": "code",
   "execution_count": 137,
   "id": "b45cfd79",
   "metadata": {},
   "outputs": [
    {
     "data": {
      "text/html": [
       "<div>\n",
       "<style scoped>\n",
       "    .dataframe tbody tr th:only-of-type {\n",
       "        vertical-align: middle;\n",
       "    }\n",
       "\n",
       "    .dataframe tbody tr th {\n",
       "        vertical-align: top;\n",
       "    }\n",
       "\n",
       "    .dataframe thead th {\n",
       "        text-align: right;\n",
       "    }\n",
       "</style>\n",
       "<table border=\"1\" class=\"dataframe\">\n",
       "  <thead>\n",
       "    <tr style=\"text-align: right;\">\n",
       "      <th></th>\n",
       "      <th>trip_duration</th>\n",
       "      <th>distance_traveled</th>\n",
       "      <th>num_of_passengers</th>\n",
       "      <th>surge_applied</th>\n",
       "    </tr>\n",
       "  </thead>\n",
       "  <tbody>\n",
       "    <tr>\n",
       "      <th>157864</th>\n",
       "      <td>372</td>\n",
       "      <td>0.693147</td>\n",
       "      <td>1</td>\n",
       "      <td>0</td>\n",
       "    </tr>\n",
       "    <tr>\n",
       "      <th>43757</th>\n",
       "      <td>4156</td>\n",
       "      <td>2.564949</td>\n",
       "      <td>2</td>\n",
       "      <td>0</td>\n",
       "    </tr>\n",
       "    <tr>\n",
       "      <th>42446</th>\n",
       "      <td>907</td>\n",
       "      <td>0.000000</td>\n",
       "      <td>1</td>\n",
       "      <td>0</td>\n",
       "    </tr>\n",
       "    <tr>\n",
       "      <th>127019</th>\n",
       "      <td>1292</td>\n",
       "      <td>1.609438</td>\n",
       "      <td>1</td>\n",
       "      <td>0</td>\n",
       "    </tr>\n",
       "    <tr>\n",
       "      <th>197374</th>\n",
       "      <td>523</td>\n",
       "      <td>1.098612</td>\n",
       "      <td>1</td>\n",
       "      <td>0</td>\n",
       "    </tr>\n",
       "    <tr>\n",
       "      <th>...</th>\n",
       "      <td>...</td>\n",
       "      <td>...</td>\n",
       "      <td>...</td>\n",
       "      <td>...</td>\n",
       "    </tr>\n",
       "    <tr>\n",
       "      <th>74651</th>\n",
       "      <td>470</td>\n",
       "      <td>1.098612</td>\n",
       "      <td>1</td>\n",
       "      <td>0</td>\n",
       "    </tr>\n",
       "    <tr>\n",
       "      <th>111170</th>\n",
       "      <td>482</td>\n",
       "      <td>1.098612</td>\n",
       "      <td>1</td>\n",
       "      <td>0</td>\n",
       "    </tr>\n",
       "    <tr>\n",
       "      <th>50975</th>\n",
       "      <td>1615</td>\n",
       "      <td>2.484907</td>\n",
       "      <td>1</td>\n",
       "      <td>0</td>\n",
       "    </tr>\n",
       "    <tr>\n",
       "      <th>5294</th>\n",
       "      <td>703</td>\n",
       "      <td>1.609438</td>\n",
       "      <td>1</td>\n",
       "      <td>0</td>\n",
       "    </tr>\n",
       "    <tr>\n",
       "      <th>130290</th>\n",
       "      <td>401</td>\n",
       "      <td>0.693147</td>\n",
       "      <td>1</td>\n",
       "      <td>0</td>\n",
       "    </tr>\n",
       "  </tbody>\n",
       "</table>\n",
       "<p>164849 rows × 4 columns</p>\n",
       "</div>"
      ],
      "text/plain": [
       "        trip_duration  distance_traveled  num_of_passengers  surge_applied\n",
       "157864            372           0.693147                  1              0\n",
       "43757            4156           2.564949                  2              0\n",
       "42446             907           0.000000                  1              0\n",
       "127019           1292           1.609438                  1              0\n",
       "197374            523           1.098612                  1              0\n",
       "...               ...                ...                ...            ...\n",
       "74651             470           1.098612                  1              0\n",
       "111170            482           1.098612                  1              0\n",
       "50975            1615           2.484907                  1              0\n",
       "5294              703           1.609438                  1              0\n",
       "130290            401           0.693147                  1              0\n",
       "\n",
       "[164849 rows x 4 columns]"
      ]
     },
     "execution_count": 137,
     "metadata": {},
     "output_type": "execute_result"
    }
   ],
   "source": [
    "x_train"
   ]
  },
  {
   "cell_type": "code",
   "execution_count": 138,
   "id": "3f7abbdf",
   "metadata": {},
   "outputs": [
    {
     "data": {
      "text/plain": [
       "157864    3.871201\n",
       "43757     5.796058\n",
       "42446     5.828946\n",
       "127019    4.812184\n",
       "197374    4.682131\n",
       "            ...   \n",
       "74651     4.382027\n",
       "111170    4.276666\n",
       "50975     5.659482\n",
       "5294      4.709530\n",
       "130290    4.189655\n",
       "Name: total_fare, Length: 164849, dtype: float64"
      ]
     },
     "execution_count": 138,
     "metadata": {},
     "output_type": "execute_result"
    }
   ],
   "source": [
    "y_train\n"
   ]
  },
  {
   "cell_type": "code",
   "execution_count": 139,
   "id": "25a95346",
   "metadata": {},
   "outputs": [
    {
     "data": {
      "text/html": [
       "<div>\n",
       "<style scoped>\n",
       "    .dataframe tbody tr th:only-of-type {\n",
       "        vertical-align: middle;\n",
       "    }\n",
       "\n",
       "    .dataframe tbody tr th {\n",
       "        vertical-align: top;\n",
       "    }\n",
       "\n",
       "    .dataframe thead th {\n",
       "        text-align: right;\n",
       "    }\n",
       "</style>\n",
       "<table border=\"1\" class=\"dataframe\">\n",
       "  <thead>\n",
       "    <tr style=\"text-align: right;\">\n",
       "      <th></th>\n",
       "      <th>trip_duration</th>\n",
       "      <th>distance_traveled</th>\n",
       "      <th>num_of_passengers</th>\n",
       "      <th>total_fare</th>\n",
       "      <th>surge_applied</th>\n",
       "    </tr>\n",
       "  </thead>\n",
       "  <tbody>\n",
       "    <tr>\n",
       "      <th>0</th>\n",
       "      <td>1076</td>\n",
       "      <td>4.18</td>\n",
       "      <td>1</td>\n",
       "      <td>0</td>\n",
       "      <td>0</td>\n",
       "    </tr>\n",
       "    <tr>\n",
       "      <th>1</th>\n",
       "      <td>429</td>\n",
       "      <td>1.48</td>\n",
       "      <td>4</td>\n",
       "      <td>0</td>\n",
       "      <td>0</td>\n",
       "    </tr>\n",
       "    <tr>\n",
       "      <th>2</th>\n",
       "      <td>856</td>\n",
       "      <td>4.15</td>\n",
       "      <td>1</td>\n",
       "      <td>0</td>\n",
       "      <td>0</td>\n",
       "    </tr>\n",
       "    <tr>\n",
       "      <th>3</th>\n",
       "      <td>622</td>\n",
       "      <td>3.22</td>\n",
       "      <td>1</td>\n",
       "      <td>0</td>\n",
       "      <td>0</td>\n",
       "    </tr>\n",
       "    <tr>\n",
       "      <th>4</th>\n",
       "      <td>507</td>\n",
       "      <td>3.98</td>\n",
       "      <td>1</td>\n",
       "      <td>0</td>\n",
       "      <td>0</td>\n",
       "    </tr>\n",
       "  </tbody>\n",
       "</table>\n",
       "</div>"
      ],
      "text/plain": [
       "   trip_duration  distance_traveled  num_of_passengers  total_fare  \\\n",
       "0           1076               4.18                  1           0   \n",
       "1            429               1.48                  4           0   \n",
       "2            856               4.15                  1           0   \n",
       "3            622               3.22                  1           0   \n",
       "4            507               3.98                  1           0   \n",
       "\n",
       "   surge_applied  \n",
       "0              0  \n",
       "1              0  \n",
       "2              0  \n",
       "3              0  \n",
       "4              0  "
      ]
     },
     "execution_count": 139,
     "metadata": {},
     "output_type": "execute_result"
    }
   ],
   "source": [
    "test.head()"
   ]
  },
  {
   "cell_type": "code",
   "execution_count": null,
   "id": "a196de1e",
   "metadata": {},
   "outputs": [],
   "source": []
  }
 ],
 "metadata": {
  "kernelspec": {
   "display_name": "Python 3 (ipykernel)",
   "language": "python",
   "name": "python3"
  },
  "language_info": {
   "codemirror_mode": {
    "name": "ipython",
    "version": 3
   },
   "file_extension": ".py",
   "mimetype": "text/x-python",
   "name": "python",
   "nbconvert_exporter": "python",
   "pygments_lexer": "ipython3",
   "version": "3.10.9"
  }
 },
 "nbformat": 4,
 "nbformat_minor": 5
}
